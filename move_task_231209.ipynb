{
 "cells": [
  {
   "cell_type": "markdown",
   "metadata": {},
   "source": [
    "# Single atom training\n",
    "This notebook goes through the workflow of setting the hyperparameters, collecting atom manipulation data, and training the deep reinforcement learning agent."
   ]
  },
  {
   "cell_type": "markdown",
   "metadata": {},
   "source": [
    "### Importing modules"
   ]
  },
  {
   "cell_type": "code",
   "execution_count": 1,
   "metadata": {},
   "outputs": [
    {
     "name": "stdout",
     "output_type": "stream",
     "text": [
      "cpu\n",
      "succeed to connect\n",
      "succeed to connect\n",
      "manipulation limit: [-20.21604347 -10.71604347 -53.79699516 -44.29699516]\n",
      "Load cnn weight\n"
     ]
    },
    {
     "data": {
      "image/png": "[encoded data removed]",
      "text/plain": [
       "<Figure size 640x480 with 1 Axes>"
      ]
     },
     "metadata": {},
     "output_type": "display_data"
    }
   ],
   "source": [
    "import os\n",
    "os.environ['KMP_DUPLICATE_LIB_OK']='True'\n",
    "from matplotlib import pyplot as plt\n",
    "import matplotlib\n",
    "import numpy as np\n",
    "import pandas as pd\n",
    "from collections import deque, namedtuple\n",
    "from matplotlib import pyplot as plt, patches\n",
    "import torch\n",
    "from REACTRL import MoveEnv, RealExpEnv, Episode_Memory, Createc_Controller, sac_agent, ReplayMemory, HerReplayMemory, ddpg_agent\n",
    "from REACTRL import plot_graph, show_reset, show_done, show_step, image_detect_edges, assign_mol_design, mol_property\n",
    "matplotlib.rcParams['image.cmap'] = 'gray'\n",
    "device = torch.device('cuda:0' if torch.cuda.is_available() else 'cpu')\n",
    "print(device)\n",
    "from matplotlib import pyplot as plt, patches\n",
    "\n",
    "# Python code to demonstrate namedtuple()\n",
    "from collections import namedtuple\n",
    "\n",
    "import cv2\n",
    "\n",
    "import datetime\n",
    "import pickle\n",
    "\n",
    "from tqdm import tqdm\n",
    "from scipy.spatial.distance import cdist\n",
    "\n",
    "\n",
    "createc_controller = Createc_Controller(None, None, None, None)\n",
    "img_forward = np.array(createc_controller.stm.scandata(1,4))\n",
    "#TODO\n",
    "#Set the pixel of the top-left corner, widht, and height of the anchor\n",
    "#If the anchor is not used, just set w and h to a small number like below\n",
    "top_left, w, h = (0,0), 3, 3\n",
    "#template = img_forward[top_left[1]:top_left[1]+h, top_left[0]:top_left[0]+w]\n",
    "#plt.imshow(template)\n",
    "\n",
    "template = img_forward[top_left[1]:top_left[1]+h, top_left[0]:top_left[0]+w]\n",
    "plt.imshow(template)\n",
    "\n",
    "\n",
    "\n",
    "#TODO\n",
    "diss_radius_nm = 0.6 #Set the radius of the manipulation start position relative the the atom start position\n",
    "goal_nm  = 2 #Set the radius of the manipulation end position relative the the atom start position\n",
    "step_nm = 0.4 #Set the step size in nm\n",
    "max_diss_z_nm = 40 #Set the maximum z height in nm\n",
    "min_diss_z_nm = 20 #Set the minimum z height in nm\n",
    "max_mvoltage = 30 #Set the maximum bias voltage in mV \n",
    "max_pcurrent = 1000 #Set the maximum conductance in pA/mV\n",
    "max_len = 5 #Set maximum episode length\n",
    "template_max_y = 3 #Set the maximum or minimum row number to search for anchor\n",
    "#Set the path to load CNN weight for the atom movement classifier\n",
    "# CNN_weight_path = 'C:/Users/wun2/github/reaction_rl/training_data_and_model_parameters/model parameters/_atom_move_detector_conv_2740.pth'\n",
    "# current_jump  = 4 #Set the current jump gradient/ std(current) threshold required to take STM scan\n",
    "\n",
    "CNN_weight_path = 'C:/LocalUserData/User-data/phys-asp-lab/nian_auto_spm/reaction_rl/training_data_and_model_parameters/model parameters/_atom_move_detector_conv_2740.pth'\n",
    "current_jump  = 4 #Set the current jump gradient/ std(current) threshold required to take STM scan\n",
    "\n",
    "\n",
    "#Set STM scan parameters\n",
    "pixel = 128\n",
    "im_size_nm = 10 #Image size in nm \n",
    "scan_mV = 1000 #bias voltage\n",
    "x_nm, y_nm = createc_controller.get_offset_nm()\n",
    "offset_nm = np.array([x_nm, y_nm]) #Set offset to current offset value\n",
    "\n",
    "#Set manipulation parameters to pull atoms from image edge to center\n",
    "pull_back_mV = 5 #bias in mV\n",
    "pull_back_pA = 60000 #current in pA\n",
    "\n",
    "#Set manipulation limit [left, right, up, down] in nm\n",
    "manip_limit_nm = np.array([x_nm - 0.5*im_size_nm+0.25, x_nm + 0.5*im_size_nm-0.25, y_nm+0.25, y_nm+im_size_nm-0.25])\n",
    "\n",
    "env = MoveEnv(diss_radius_nm=diss_radius_nm,\n",
    "                    step_nm=step_nm,\n",
    "                    goal_nm=goal_nm,\n",
    "                    max_diss_z_nm=max_diss_z_nm,\n",
    "                    min_diss_z_nm=min_diss_z_nm,\n",
    "                    max_mvoltage=max_mvoltage,\n",
    "                    max_pcurrent=max_pcurrent,\n",
    "                    max_len=max_len,\n",
    "                    template=template,\n",
    "                    template_max_y=template_max_y,\n",
    "                    load_weight=CNN_weight_path,\n",
    "                    current_jump=current_jump,\n",
    "                    pixel=pixel,\n",
    "                    im_size_nm=im_size_nm,\n",
    "                    scan_mV=scan_mV,\n",
    "                    offset_nm=offset_nm,\n",
    "                    pull_back_mV=pull_back_mV,\n",
    "                    pull_back_pA=pull_back_pA,\n",
    "                    manip_limit_nm=manip_limit_nm,\n",
    ")\n",
    "\n",
    "\n",
    "#TODO\n",
    "batch_size= 32  # 128 #Set minibatch size\n",
    "LEARNING_RATE = 0.0003 #Set learning rate\n",
    "\n",
    "#Set the action space range\n",
    "ACTION_SPACE = namedtuple('ACTION_SPACE', ['high', 'low'])\n",
    "action_space = ACTION_SPACE(high = torch.tensor([1,1,1,1,1,1]), low = torch.tensor([-1,-1,-1, -1, 1/3,1/2]))\n",
    "\n",
    "#Initialize the soft actor-critic agent\n",
    "alpha = 1.0\n",
    "# agent = sac_agent(num_inputs = 4, num_actions = 4, action_space = action_space, device=device, hidden_size=256, lr=LEARNING_RATE,\n",
    "#                   gamma=0.9, tau=0.005, alpha=alpha)\n",
    "\n",
    "agent = ddpg_agent(num_inputs = 4, num_actions = 6, device=device, hidden_size=256, lr=LEARNING_RATE,gamma=0.9, tau=0.005)\n",
    "\n",
    "\n",
    "\n",
    "#TODO\n",
    "replay_size=1000000 #Set memory size\n",
    "\n",
    "memory = HerReplayMemory(replay_size, env, strategy = 'future')\n",
    "\n",
    "\n",
    "episode_memory = Episode_Memory()\n",
    "#TODO\n",
    "#Set the folder name to store training data and neural network weight\n",
    "folder_name =  'C:/LocalUserData/User-data/phys-asp-lab/nian_auto_spm/test_nian_ddpg_new_cnn'\n",
    "\n",
    "\n",
    "c_k_min = 500\n",
    "eta = 0.994\n",
    "max_ep_len = max_len\n",
    "\n",
    "\n",
    "episode_rewards, alphas, precisions, episode_lengths = [], [], [], []\n",
    "avg_episode_rewards, avg_alphas, avg_precisions, avg_episode_lengths = [], [], [], []\n",
    "\n",
    "max_steps = 10\n",
    "num_episodes = 1000\n",
    "episode_start = 0\n",
    "\n",
    "\n",
    "i_episode=0\n",
    "episode_reward, episode_steps = 0, 0\n",
    "done = False\n",
    "check_similarity=None\n",
    "candidate_mols=None\n"
   ]
  },
  {
   "cell_type": "code",
   "execution_count": null,
   "metadata": {},
   "outputs": [],
   "source": [
    "data=env.reset(scan_len_nm_small=10, find_mol=True, scan_speed=600)"
   ]
  },
  {
   "cell_type": "code",
   "execution_count": null,
   "metadata": {},
   "outputs": [],
   "source": [
    "# movement "
   ]
  },
  {
   "cell_type": "code",
   "execution_count": null,
   "metadata": {},
   "outputs": [],
   "source": [
    "import numpy as npa\n",
    "list(np.random.random(2)*2-1)+list(np.random.random(2)*2-1)+list(np.random.random(2))"
   ]
  },
  {
   "cell_type": "code",
   "execution_count": null,
   "metadata": {},
   "outputs": [],
   "source": [
    "env.mol_current_absolute_nm=np.array([120, 35])"
   ]
  },
  {
   "cell_type": "code",
   "execution_count": null,
   "metadata": {},
   "outputs": [],
   "source": [
    "env.createc_controller.get_offset_nm()"
   ]
  },
  {
   "cell_type": "code",
   "execution_count": null,
   "metadata": {},
   "outputs": [],
   "source": [
    "env.manip_limit_nm"
   ]
  },
  {
   "cell_type": "code",
   "execution_count": null,
   "metadata": {},
   "outputs": [],
   "source": [
    "env.manip_limit_nm"
   ]
  },
  {
   "cell_type": "code",
   "execution_count": null,
   "metadata": {},
   "outputs": [],
   "source": [
    "env.action_to_latman_input(np.array([-0.7559753994373559,\n",
    " -0.7531843839187069,\n",
    " -0.7037574602629963,\n",
    " 0.8244968531560448,\n",
    " 0.04043179568928856,\n",
    " 0.8012815662805606]))"
   ]
  },
  {
   "cell_type": "code",
   "execution_count": 3,
   "metadata": {},
   "outputs": [
    {
     "data": {
      "text/plain": [
       "(-15.46554946899414, -54.045372009277344)"
      ]
     },
     "execution_count": 3,
     "metadata": {},
     "output_type": "execute_result"
    }
   ],
   "source": [
    "env.createc_controller.get_offset_nm()"
   ]
  },
  {
   "cell_type": "code",
   "execution_count": 4,
   "metadata": {},
   "outputs": [
    {
     "name": "stdout",
     "output_type": "stream",
     "text": [
      "action [-0.39001098485528773, -0.7281770777026164, -0.011084996559140636, 0.9700680946896747, 0.16432195310191688, 0.6572469506072091]\n",
      "mol_current_absolute_nm [-15.56 -48.  ]\n"
     ]
    }
   ],
   "source": [
    "action = env.random_action_generator()\n",
    "print('action', action)\n",
    "print('mol_current_absolute_nm', env.mol_current_absolute_nm)"
   ]
  },
  {
   "cell_type": "code",
   "execution_count": 5,
   "metadata": {},
   "outputs": [
    {
     "name": "stdout",
     "output_type": "stream",
     "text": [
      "mol_position: [-15.56 -48.  ]\n"
     ]
    },
    {
     "data": {
      "text/plain": [
       "(-15.716004393942116,\n",
       " -48.29127083108105,\n",
       " -15.582169993118281,\n",
       " -46.05986381062065,\n",
       " 4.929658593057507,\n",
       " 657.2469506072091)"
      ]
     },
     "execution_count": 5,
     "metadata": {},
     "output_type": "execute_result"
    }
   ],
   "source": [
    "env.action_to_latman_input(action)"
   ]
  },
  {
   "cell_type": "code",
   "execution_count": 6,
   "metadata": {},
   "outputs": [
    {
     "name": "stdout",
     "output_type": "stream",
     "text": [
      "Episode: 0\n",
      "The scan will take 31.5 seconds\n",
      "action [0.2890146378990057, -0.06057793540047429, -0.4102782358517072, 0.6869478818380559, 0.3342003945172388, 0.10601736281201335]\n",
      "mol_current_absolute_nm [-15.54 -47.94]\n",
      "mol_position: [-15.54 -47.94]\n",
      "args (-15.424394144840397, -47.96423117416019, -16.360556471703415, -46.56610423632389, 10.026011835517165, 106.01736281201335)\n",
      "pos (-15.424394144840397, -47.96423117416019, -16.360556471703415, -46.56610423632389) params (10.026011835517165, 106.01736281201335, array([-15.46505547, -54.04374886]), 9.9365234375)\n",
      "args (65, 78, 52, 96)\n",
      "Epoch 0_0 scan a image after dissociating now....\n",
      "The scan will take 31.5 seconds\n",
      "area 2.752685546875\n",
      "episode: 0_0 reward: 0.0 done: False state: [ 0.90091352 -0.43399865  0.          0.          0.62        0.70666667\n",
      "  0.77916667  0.76293945] next_state: [ 0.90091352 -0.43399865 -0.105       0.14        0.55        0.72333333\n",
      "  0.70327778  0.68817139]\n",
      "action [0.8377697176679211, -0.9152157627807675, 0.01630884206363148, -0.2938528476778195, 0.0339351563136846, 0.9602156396941134]\n",
      "mol_current_absolute_nm [-15.75 -47.66]\n",
      "mol_position: [-15.75 -47.66]\n",
      "args (-15.414892112932831, -48.0260863051123, -15.717382315872737, -48.247705695355634, 1.018054689410538, 960.2156396941134)\n",
      "pos (-15.414892112932831, -48.0260863051123, -15.717382315872737, -48.247705695355634) params (1.018054689410538, 960.2156396941134, array([-15.46456146, -54.0421257 ]), 9.9365234375)\n",
      "args (65, 77, 61, 75)\n",
      "Epoch 0_1 scan a image after dissociating now....\n",
      "The scan will take 31.5 seconds\n",
      "area 2.947998046875\n",
      "episode: 0_1 reward: 0.0 done: False state: [ 0.90091352 -0.43399865 -0.105       0.14        0.55        0.72333333\n",
      "  0.70327778  0.68817139] next_state: [ 0.90091352 -0.43399865  0.14        0.035       0.56666667  0.73666667\n",
      "  0.76894444  0.73699951]\n",
      "action [-0.8056683875052091, -0.45791080431247466, 0.1743198161115369, 0.7806573324420365, 0.41553513458578695, 0.5724557674874368]\n",
      "mol_current_absolute_nm [-15.26 -47.87]\n",
      "mol_position: [-15.26 -47.87]\n",
      "args (-15.582267355002083, -48.053164321724985, -14.911360367776926, -46.308685335115925, 12.466054037573608, 572.4557674874368)\n",
      "pos (-15.582267355002083, -48.053164321724985, -14.911360367776926, -46.308685335115925) params (12.466054037573608, 572.4557674874368, array([-15.46406746, -54.04050255]), 9.9365234375)\n",
      "args (62, 77, 71, 100)\n",
      "Epoch 0_2 scan a image after dissociating now....\n",
      "The scan will take 31.5 seconds\n",
      "area 2.7008056640625\n",
      "episode: 0_2 reward: 0.0 done: False state: [ 0.90091352 -0.43399865  0.14        0.035       0.56666667  0.73666667\n",
      "  0.76894444  0.73699951] next_state: [ 0.90091352 -0.43399865  0.37        0.87        0.49        0.79\n",
      "  0.53427778  0.67520142]\n",
      "action [-0.4221604998890862, 0.42316641046055503, 0.2598495216147423, 0.39710817884823224, 0.8449042346737741, 0.8715784647773271]\n",
      "mol_current_absolute_nm [-14.8 -46.2]\n",
      "mol_position: [-14.8 -46.2]\n",
      "args (-14.968864199955636, -46.03073343581578, -14.280300956770516, -45.40578364230354, 25.347127040213223, 871.5784647773271)\n",
      "pos (-14.968864199955636, -46.03073343581578, -14.280300956770516, -45.40578364230354) params (25.347127040213223, 871.5784647773271, array([-15.46357346, -54.03887939]), 9.9365234375)\n",
      "args (70, 103, 79, 111)\n",
      "Epoch 0_3 scan a image after dissociating now....\n",
      "The scan will take 31.5 seconds\n",
      "area 3.5247802734375\n",
      "start tip forming now\n",
      "start scanning region: seek_time 1 (-287.99121856689453, -0.0)\n",
      "The scan will take 31.5 seconds\n",
      "start finding new region\n",
      "starting new approach area...\n",
      "looking for new region x_nm, y_nm 4.536920547485352 -34.03725624084473\n",
      "start scanning region: seek_time 2 (-15.46258544921875, -54.0356330871582)\n",
      "The scan will take 33.4 seconds\n",
      "start finding new region\n",
      "starting new approach area...\n",
      "looking for new region x_nm, y_nm -15.463079452514648 -14.037256240844727\n",
      "start scanning region: seek_time 3 (4.536785125732422, -34.03619194030762)\n",
      "The scan will take 33.4 seconds\n",
      "candidate_mols [[-6.42, -7.5]]\n",
      "mol num: 0\n",
      "The scan will take 33.4 seconds\n",
      "aaaaam find no mols first\n",
      "aaaaam find mols\n",
      "aaaaam find mols breakkkking\n",
      "episode: 0_3 reward: 0.0 done: False state: [ 0.90091352 -0.43399865  0.37        0.87        0.49        0.79\n",
      "  0.53427778  0.67520142] next_state: [[0.0, 0.0], [0.0, 0.0], 0.0, 0.0, 0.0, 0.0]\n",
      "Episode: 1\n",
      "The scan will take 31.5 seconds\n",
      "action [-0.2614257850091355, -0.9173110224885315, -0.6012340579199964, 0.04999333293340169, 0.6729957974546902, 0.36306168376917236]\n",
      "mol_current_absolute_nm [-2.37 -7.46]\n",
      "mol_position: [-2.37 -7.46]\n",
      "args (-10.716043472290039, -44.29699516296387, -10.716043472290039, -44.29699516296387, 20.189873923640704, 363.06168376917236)\n",
      "pos (-10.716043472290039, -44.29699516296387, -10.716043472290039, -44.29699516296387) params (20.189873923640704, 363.06168376917236, array([ -6.41957283, -12.49927139]), 9.9365234375)\n",
      "Epoch 1_0 scan a image after dissociating now....\n",
      "The scan will take 31.5 seconds\n",
      "start tip forming now\n",
      "start scanning region: seek_time 1 (-287.99121856689453, -0.0)\n",
      "The scan will take 31.5 seconds\n"
     ]
    }
   ],
   "source": [
    "current_time='11_21_19_0'\n",
    "num_episodes=100\n",
    "episode_start=0\n",
    "done_num=0\n",
    "new_mol=True\n",
    "for i_episode in range(episode_start,episode_start+num_episodes):\n",
    "    print('Episode:', i_episode)\n",
    "    episode_reward, episode_steps = 0, 0\n",
    "    done = False\n",
    "    if new_mol:\n",
    "        state, info, check_similarity, candidate_mols = env.reset(all_file_label=str(i_episode),current_time=current_time, find_mol=True, new_scan_region=True, check_similarity=check_similarity, candidate_mols=candidate_mols)\n",
    "    else:\n",
    "        state, info, check_similarity, candidate_mols = env.reset(all_file_label=str(i_episode),current_time=current_time, find_mol=False, new_scan_region=True, check_similarity=check_similarity, candidate_mols=candidate_mols)\n",
    "    current_time=env.get_state_current_time\n",
    "    # episode_memory.update_memory_reset(env.img_info, i_episode, info)\n",
    "\n",
    "\n",
    "    for step in range(max_steps):\n",
    "        action = env.random_action_generator()\n",
    "        print('action', action)\n",
    "        print('mol_current_absolute_nm', env.mol_current_absolute_nm)\n",
    "        next_state, reward, done, info, new_mol = env.step(action, all_file_label=str(i_episode)+'_'+str(step),current_time=current_time, check_similarity=check_similarity, candidate_mols=candidate_mols)\n",
    "        print('episode: %s reward: %s done: %s state: %s next_state: %s' % (str(i_episode)+'_'+str(step), reward, done, state, next_state))\n",
    "        episode_steps+=1\n",
    "        episode_reward+=reward\n",
    "        mask = float(not done)\n",
    "        # memory.push(state,action,reward,next_state,mask)\n",
    "        # episode_memory.update_memory_step(state, action, next_state, reward, done, info)\n",
    "\n",
    "        if done:\n",
    "            done_num+=1\n",
    "            # episode_memory.update_memory_done(env.img_info, [env.mol_center_x_nm, env.mol_center_y_nm], [0.0, 0.0])\n",
    "            # episode_memory.update_memory_done(env.img_info)\n",
    "            # episode_memory.save_memory(folder_name)\n",
    "            print('Episode reward:', episode_reward)\n",
    "            break\n",
    "        else:\n",
    "            state = next_state\n",
    "            #state, info, check_similarity, candidate_mols = env.reset(all_file_label=str(i_episode)+str(step),current_time='10_30_20_48', new_scan_region=True, check_similarity=check_similarity, candidate_mols=candidate_mols)\n",
    "        if new_mol:\n",
    "            break\n",
    "\n",
    "    # if done_num>1:   \n",
    "    #     if (len(memory)>batch_size):\n",
    "    #         episode_K = int(episode_steps)\n",
    "    #         for k in range(episode_K):\n",
    "    #             c_k = max(int(memory.__len__()*eta**((k)*(1000/episode_K))), 500)\n",
    "    #             agent.update_parameters(memory, batch_size, c_k)\n",
    "    \n",
    "    # episode_rewards.append(episode_reward)\n",
    "    # alphas.append(agent.alpha.item())\n",
    "    # with open('episode_reward_1109_random.txt', 'a') as fp:\n",
    "    #     fp.write('%s, %.2f, %.2f\\n' % (i_episode, episode_reward, episode_steps))\n",
    "    # plt.scatter(i_episode, episode_reward, c='b')\n",
    "    \n",
    "\n",
    "    # episode_lengths.append(episode_steps)\n",
    "    # avg_episode_rewards.append(np.mean(episode_rewards[-min(100,len(episode_rewards)):]))\n",
    "    # avg_alphas.append(np.mean(alphas[-min(100, len(alphas)):]))\n",
    "    # avg_episode_lengths.append(np.mean(episode_lengths[-min(100, len(episode_lengths)):]))"
   ]
  },
  {
   "cell_type": "code",
   "execution_count": null,
   "metadata": {},
   "outputs": [],
   "source": [
    "current_time=None\n",
    "num_episodes=200\n",
    "episode_start=0\n",
    "done_num=0\n",
    "new_mol=False\n",
    "for i_episode in range(episode_start,episode_start+num_episodes):\n",
    "    print('Episode:', i_episode)\n",
    "    episode_reward, episode_steps = 0, 0\n",
    "    done = False\n",
    "    if new_mol:\n",
    "        state, info, check_similarity, candidate_mols = env.reset(all_file_label=str(i_episode),current_time=current_time, find_mol=True, new_scan_region=True, check_similarity=check_similarity, candidate_mols=candidate_mols)\n",
    "    else:\n",
    "        state, info, check_similarity, candidate_mols = env.reset(all_file_label=str(i_episode),current_time=current_time, find_mol=False, new_scan_region=True, check_similarity=check_similarity, candidate_mols=candidate_mols)\n",
    "    current_time=env.get_state_current_time\n",
    "    episode_memory.update_memory_reset(env.img_info, i_episode, info)\n",
    "\n",
    "\n",
    "    for step in range(max_steps):\n",
    "        if i_episode<6:\n",
    "            action = env.random_action_generator()\n",
    "        else:\n",
    "            action = agent.select_action(state)\n",
    "            action = list(np.array(action)[:2]*2-1)+list(np.array(action)[2:])\n",
    "        print('state:', state)\n",
    "        print('action:', action)\n",
    "        next_state, reward, done, info, new_mol = env.step(action, all_file_label=str(i_episode)+'_'+str(step),current_time=current_time, check_similarity=check_similarity, candidate_mols=candidate_mols)\n",
    "        print('episode: %s reward: %s done: %s state: %s next_state: %s' % (str(i_episode)+'_'+str(step), reward, done, state, next_state))\n",
    "        episode_steps+=1\n",
    "        episode_reward+=reward\n",
    "        mask = float(not done)\n",
    "        memory.push(state,action,reward,next_state,mask)\n",
    "        episode_memory.update_memory_step(state, action, next_state, reward, done, info)\n",
    "\n",
    "        if done:\n",
    "            done_num+=1\n",
    "            # episode_memory.update_memory_done(env.img_info, [env.mol_center_x_nm, env.mol_center_y_nm], [0.0, 0.0])\n",
    "            episode_memory.update_memory_done(env.img_info)\n",
    "            episode_memory.save_memory(folder_name)\n",
    "            print('Episode reward:', episode_reward)\n",
    "            break\n",
    "        else:\n",
    "            state = next_state\n",
    "            #state, info, check_similarity, candidate_mols = env.reset(all_file_label=str(i_episode)+str(step),current_time='10_30_20_48', new_scan_region=True, check_similarity=check_similarity, candidate_mols=candidate_mols)\n",
    "        if new_mol:\n",
    "            break\n",
    "\n",
    "        if (len(memory)>batch_size):\n",
    "            episode_K = int(episode_steps)\n",
    "            for k in range(episode_K):\n",
    "                c_k = max(int(memory.__len__()*eta**((k)*(1000/episode_K))), 500)\n",
    "                agent.update_parameters(memory, batch_size, c_k)\n",
    "\n",
    "\n",
    "    # if done_num>1:   \n",
    "    #     if (len(memory)>batch_size):\n",
    "    #         episode_K = int(episode_steps)\n",
    "    #         for k in range(episode_K):\n",
    "    #             c_k = max(int(memory.__len__()*eta**((k)*(1000/episode_K))), 500)\n",
    "    #             agent.update_parameters(memory, batch_size, c_k)\n",
    "    \n",
    "    episode_rewards.append(episode_reward)\n",
    "\n",
    "    with open('episode_reward_1116.txt', 'a') as fp:\n",
    "        fp.write('%s, %.2f, %.2f\\n' % (i_episode, episode_reward, episode_steps))\n",
    "    plt.scatter(i_episode, episode_reward, c='b')\n",
    "    \n",
    "\n",
    "    episode_lengths.append(episode_steps)\n",
    "    avg_episode_rewards.append(np.mean(episode_rewards[-min(100,len(episode_rewards)):]))\n",
    "    avg_alphas.append(np.mean(alphas[-min(100, len(alphas)):]))\n",
    "    avg_episode_lengths.append(np.mean(episode_lengths[-min(100, len(episode_lengths)):]))\n",
    "    \n",
    "\n",
    "        \n",
    "    if (i_episode)%5 == 0:\n",
    "        agent.save_model(filename='ddpg_%s' % i_episode)\n"
   ]
  },
  {
   "cell_type": "code",
   "execution_count": null,
   "metadata": {},
   "outputs": [],
   "source": [
    "action=np.array([0.00, 0.00, -0.89982123, 0.60377552, 0.99957592,\n",
    "       0.9587658 ])"
   ]
  },
  {
   "cell_type": "code",
   "execution_count": null,
   "metadata": {},
   "outputs": [],
   "source": [
    "env.step(np.array([0.00, 0.00, -0.9982123, 0.8377552, 0.99957592,\n",
    "       0.9587658 ]),scan_len_nm_small=10)"
   ]
  },
  {
   "cell_type": "code",
   "execution_count": null,
   "metadata": {},
   "outputs": [],
   "source": [
    "env.get_state(new_scan_region=True)\n"
   ]
  },
  {
   "cell_type": "code",
   "execution_count": null,
   "metadata": {},
   "outputs": [],
   "source": [
    "save_img_before='C:/LocalUserData/User-data/phys-asp-lab/nian_auto_spm/reaction_rl/all_output/lateral_mani_11_20_14_50/scan_img_before_11_20_14_50'\n",
    "all_file_label='example'\n",
    "img_small=cv2.imread('%s/img_forward_%s.png' % (save_img_before, all_file_label), cv2.IMREAD_GRAYSCALE)"
   ]
  },
  {
   "cell_type": "code",
   "execution_count": null,
   "metadata": {},
   "outputs": [],
   "source": [
    "plt.imshow(img_small)"
   ]
  },
  {
   "cell_type": "code",
   "execution_count": null,
   "metadata": {},
   "outputs": [],
   "source": [
    "env.createc_controller.get"
   ]
  },
  {
   "cell_type": "code",
   "execution_count": null,
   "metadata": {},
   "outputs": [],
   "source": [
    "env.get_state(new_scan_region=True)"
   ]
  },
  {
   "cell_type": "code",
   "execution_count": null,
   "metadata": {},
   "outputs": [],
   "source": [
    "img_prop_small.select_points(dist_thres=7.0)"
   ]
  },
  {
   "cell_type": "code",
   "execution_count": null,
   "metadata": {},
   "outputs": [],
   "source": [
    "env.createc_controller.get_offset_nm()"
   ]
  },
  {
   "cell_type": "code",
   "execution_count": null,
   "metadata": {},
   "outputs": [],
   "source": [
    "img_prop_small=mol_property(img_small, offset_x_nm=97.64899635314941, offset_y_nm=0.647003173828125, len_nm=30)"
   ]
  },
  {
   "cell_type": "code",
   "execution_count": null,
   "metadata": {},
   "outputs": [],
   "source": [
    "env.mol_start_absolute_nm"
   ]
  },
  {
   "cell_type": "code",
   "execution_count": null,
   "metadata": {},
   "outputs": [],
   "source": [
    "img_prop_small.center_points_from_contour()\n",
    "img_prop_small.plot_contour(text=True)"
   ]
  },
  {
   "cell_type": "code",
   "execution_count": null,
   "metadata": {},
   "outputs": [],
   "source": [
    "env.mol_current_absolute_nm"
   ]
  },
  {
   "cell_type": "code",
   "execution_count": null,
   "metadata": {},
   "outputs": [],
   "source": [
    "data=env.reset(scan_len_nm_small=10, find_mol=True, scan_speed=600)"
   ]
  },
  {
   "cell_type": "code",
   "execution_count": null,
   "metadata": {},
   "outputs": [],
   "source": [
    "data=env.reset(scan_len_nm_small=30, find_mol=True, scan_speed=600)"
   ]
  },
  {
   "cell_type": "code",
   "execution_count": null,
   "metadata": {},
   "outputs": [],
   "source": []
  },
  {
   "cell_type": "code",
   "execution_count": null,
   "metadata": {},
   "outputs": [],
   "source": [
    "env.mol_current_absolute_nm"
   ]
  },
  {
   "cell_type": "code",
   "execution_count": null,
   "metadata": {},
   "outputs": [],
   "source": [
    "env.step_latman(74.338839702451288,\n",
    " 2.3108835237947,\n",
    " 75.68313324741355,\n",
    " 3.005737202191265,\n",
    " 30.161320594912027,\n",
    " 1009.9082504127797)"
   ]
  },
  {
   "cell_type": "code",
   "execution_count": null,
   "metadata": {},
   "outputs": [],
   "source": [
    "action=np.random.random(6)"
   ]
  },
  {
   "cell_type": "code",
   "execution_count": null,
   "metadata": {},
   "outputs": [],
   "source": [
    "action"
   ]
  },
  {
   "cell_type": "code",
   "execution_count": null,
   "metadata": {},
   "outputs": [],
   "source": [
    "env.step_nm=0.4"
   ]
  },
  {
   "cell_type": "code",
   "execution_count": null,
   "metadata": {},
   "outputs": [],
   "source": [
    "env.createc_controller.stm.getparam(\"Latmangain\")"
   ]
  },
  {
   "cell_type": "code",
   "execution_count": null,
   "metadata": {},
   "outputs": [],
   "source": [
    "preamp_grain = 10**float(env.createc_controller.stm.getparam(\"Latmangain\"))"
   ]
  },
  {
   "cell_type": "code",
   "execution_count": null,
   "metadata": {},
   "outputs": [],
   "source": [
    "preamp_grain"
   ]
  },
  {
   "cell_type": "code",
   "execution_count": null,
   "metadata": {},
   "outputs": [],
   "source": [
    "env.mol_current_absolute_nm"
   ]
  },
  {
   "cell_type": "code",
   "execution_count": null,
   "metadata": {},
   "outputs": [],
   "source": [
    "env.manip_limit_nm"
   ]
  },
  {
   "cell_type": "code",
   "execution_count": null,
   "metadata": {},
   "outputs": [],
   "source": [
    "env.createc_controller.get_len_nm()"
   ]
  },
  {
   "cell_type": "code",
   "execution_count": null,
   "metadata": {},
   "outputs": [],
   "source": [
    "env.createc_controller.get_offset_nm()"
   ]
  },
  {
   "cell_type": "code",
   "execution_count": null,
   "metadata": {},
   "outputs": [],
   "source": [
    "env.action_to_latman_input(action)"
   ]
  },
  {
   "cell_type": "code",
   "execution_count": null,
   "metadata": {},
   "outputs": [],
   "source": [
    "env.step_latman(76.008839702451288,\n",
    " 6.4708835237947,\n",
    " 74.68313324741355,\n",
    " 7.005737202191265,\n",
    " 30.161320594912027,\n",
    " 1009.9082504127797)"
   ]
  },
  {
   "cell_type": "code",
   "execution_count": null,
   "metadata": {},
   "outputs": [],
   "source": [
    "img_path='C:/LocalUserData/User-data/phys-asp-lab/nian_auto_spm/reaction_rl/all_output/vertmani_11_13_15_46/scan_img_after_11_13_15_46/img_forward_8_0.png'\n",
    "img=cv2.imread(img_path, cv2.IMREAD_GRAYSCALE)\n",
    "plt.imshow(img)"
   ]
  },
  {
   "cell_type": "code",
   "execution_count": null,
   "metadata": {},
   "outputs": [],
   "source": [
    "plt.imshow(img)"
   ]
  },
  {
   "cell_type": "code",
   "execution_count": null,
   "metadata": {},
   "outputs": [],
   "source": [
    "env.detect_mol_cnn(img)"
   ]
  },
  {
   "cell_type": "code",
   "execution_count": null,
   "metadata": {},
   "outputs": [],
   "source": [
    "img_path='C:/LocalUserData/User-data/phys-asp-lab/nian_auto_spm/reaction_rl/all_output/get_new_region_11_16_15_8/scan_img_before_11_16_15_8/img_forward_0_7_1.png'\n",
    "img=cv2.imread(img_path, cv2.IMREAD_GRAYSCALE)\n",
    "plt.imshow(img)"
   ]
  },
  {
   "cell_type": "code",
   "execution_count": null,
   "metadata": {},
   "outputs": [],
   "source": [
    "from REACTRL import scan_all_approach_area"
   ]
  },
  {
   "cell_type": "code",
   "execution_count": null,
   "metadata": {},
   "outputs": [],
   "source": [
    "scan_all_approach_area(env, plot_scan_points=False)"
   ]
  },
  {
   "cell_type": "code",
   "execution_count": null,
   "metadata": {},
   "outputs": [],
   "source": [
    "mol_center_x_nm, mol_center_y_nm, check_similarity, candidate_mols=env.get_state(x_nm=env.createc_controller.get_offset_nm()[0], y_nm=env.createc_controller.get_offset_nm()[1], scan_len_nm_large=20, new_scan_region=True, check_similarity=check_similarity, candidate_mols=candidate_mols,  current_time=None, img_name='abc', data_name='abc')"
   ]
  },
  {
   "cell_type": "code",
   "execution_count": null,
   "metadata": {},
   "outputs": [],
   "source": [
    "current_time='11_10_15_49'\n",
    "num_episodes=500\n",
    "episode_start=8\n",
    "done_num=0\n",
    "new_mol=True\n",
    "for i_episode in range(episode_start,episode_start+num_episodes):\n",
    "    print('Episode:', i_episode)\n",
    "    episode_reward, episode_steps = 0, 0\n",
    "    done = False\n",
    "    if new_mol:\n",
    "        state, info, check_similarity, candidate_mols = env.reset(all_file_label=str(i_episode),current_time=current_time, find_mol=True, new_scan_region=True, check_similarity=check_similarity, candidate_mols=candidate_mols)\n",
    "    else:\n",
    "        state, info, check_similarity, candidate_mols = env.reset(all_file_label=str(i_episode),current_time=current_time, find_mol=False, new_scan_region=True, check_similarity=check_similarity, candidate_mols=candidate_mols)\n",
    "    current_time=env.get_state_current_time\n",
    "    episode_memory.update_memory_reset(env.img_info, i_episode, info)\n",
    "\n",
    "\n",
    "    for step in range(max_steps):\n",
    "        action = env.random_action_generator()\n",
    "        next_state, reward, done, info, new_mol = env.step(action, all_file_label=str(i_episode)+'_'+str(step),current_time=current_time, check_similarity=check_similarity, candidate_mols=candidate_mols)\n",
    "        print('episode: %s reward: %s done: %s state: %s next_state: %s' % (str(i_episode)+'_'+str(step), reward, done, state, next_state))\n",
    "        episode_steps+=1\n",
    "        episode_reward+=reward\n",
    "        mask = float(not done)\n",
    "        # memory.push(state,action,reward,next_state,mask)\n",
    "        # episode_memory.update_memory_step(state, action, next_state, reward, done, info)\n",
    "\n",
    "        if done:\n",
    "            done_num+=1\n",
    "            # episode_memory.update_memory_done(env.img_info, [env.mol_center_x_nm, env.mol_center_y_nm], [0.0, 0.0])\n",
    "            # episode_memory.update_memory_done(env.img_info)\n",
    "            # episode_memory.save_memory(folder_name)\n",
    "            print('Episode reward:', episode_reward)\n",
    "            break\n",
    "        else:\n",
    "            state = next_state\n",
    "            #state, info, check_similarity, candidate_mols = env.reset(all_file_label=str(i_episode)+str(step),current_time='10_30_20_48', new_scan_region=True, check_similarity=check_similarity, candidate_mols=candidate_mols)\n",
    "        if new_mol:\n",
    "            break\n",
    "\n",
    "    # if done_num>1:   \n",
    "    #     if (len(memory)>batch_size):\n",
    "    #         episode_K = int(episode_steps)\n",
    "    #         for k in range(episode_K):\n",
    "    #             c_k = max(int(memory.__len__()*eta**((k)*(1000/episode_K))), 500)\n",
    "    #             agent.update_parameters(memory, batch_size, c_k)\n",
    "    \n",
    "    # episode_rewards.append(episode_reward)\n",
    "    # alphas.append(agent.alpha.item())\n",
    "    with open('episode_reward_1109_random.txt', 'a') as fp:\n",
    "        fp.write('%s, %.2f, %.2f\\n' % (i_episode, episode_reward, episode_steps))\n",
    "    plt.scatter(i_episode, episode_reward, c='b')\n",
    "    \n",
    "\n",
    "    # episode_lengths.append(episode_steps)\n",
    "    # avg_episode_rewards.append(np.mean(episode_rewards[-min(100,len(episode_rewards)):]))\n",
    "    # avg_alphas.append(np.mean(alphas[-min(100, len(alphas)):]))\n",
    "    # avg_episode_lengths.append(np.mean(episode_lengths[-min(100, len(episode_lengths)):]))\n",
    "    \n",
    "\n",
    "        \n",
    "    # if (i_episode)%5 == 0:\n",
    "    #     torch.save(agent.critic.state_dict(), '{}/_critic_{}.pth'.format(folder_name,i_episode))\n",
    "    #     torch.save(agent.policy.state_dict(), '{}/_policy_{}.pth'.format(folder_name,i_episode))\n",
    "    #     torch.save(agent.alpha, '{}/_alpha_{}.pth'.format(folder_name,i_episode))\n",
    "        # torch.save(env.atom_move_detector.conv.state_dict(), '{}/_atom_move_detector_conv_{}.pth'.format(folder_name,i_episode))"
   ]
  },
  {
   "cell_type": "markdown",
   "metadata": {},
   "source": [
    "# reinforcement learning traning mode (ddpg)"
   ]
  },
  {
   "cell_type": "code",
   "execution_count": null,
   "metadata": {},
   "outputs": [],
   "source": [
    "agent.actor"
   ]
  },
  {
   "cell_type": "code",
   "execution_count": null,
   "metadata": {},
   "outputs": [],
   "source": [
    "agent.critic"
   ]
  },
  {
   "cell_type": "code",
   "execution_count": null,
   "metadata": {},
   "outputs": [],
   "source": [
    "np.array([0.0, 3.0, 1.0, 0.0])[: 2]"
   ]
  },
  {
   "cell_type": "code",
   "execution_count": null,
   "metadata": {},
   "outputs": [],
   "source": []
  },
  {
   "cell_type": "code",
   "execution_count": null,
   "metadata": {},
   "outputs": [],
   "source": [
    "current_time=None\n",
    "num_episodes=200\n",
    "episode_start=0\n",
    "done_num=0\n",
    "new_mol=False\n",
    "for i_episode in range(episode_start,episode_start+num_episodes):\n",
    "    print('Episode:', i_episode)\n",
    "    episode_reward, episode_steps = 0, 0\n",
    "    done = False\n",
    "    if new_mol:\n",
    "        state, info, check_similarity, candidate_mols = env.reset(all_file_label=str(i_episode),current_time=current_time, find_mol=True, new_scan_region=True, check_similarity=check_similarity, candidate_mols=candidate_mols)\n",
    "    else:\n",
    "        state, info, check_similarity, candidate_mols = env.reset(all_file_label=str(i_episode),current_time=current_time, find_mol=False, new_scan_region=True, check_similarity=check_similarity, candidate_mols=candidate_mols)\n",
    "    current_time=env.get_state_current_time\n",
    "    episode_memory.update_memory_reset(env.img_info, i_episode, info)\n",
    "\n",
    "\n",
    "    for step in range(max_steps):\n",
    "        if i_episode<6:\n",
    "            action = env.random_action_generator()\n",
    "        else:\n",
    "            action = agent.select_action(state)\n",
    "            action = list(np.array(action)[:2]*2-1)+list(np.array(action)[2:])\n",
    "        print('state:', state)\n",
    "        print('action:', action)\n",
    "        next_state, reward, done, info, new_mol = env.step(action, all_file_label=str(i_episode)+'_'+str(step),current_time=current_time, check_similarity=check_similarity, candidate_mols=candidate_mols)\n",
    "        print('episode: %s reward: %s done: %s state: %s next_state: %s' % (str(i_episode)+'_'+str(step), reward, done, state, next_state))\n",
    "        episode_steps+=1\n",
    "        episode_reward+=reward\n",
    "        mask = float(not done)\n",
    "        memory.push(state,action,reward,next_state,mask)\n",
    "        episode_memory.update_memory_step(state, action, next_state, reward, done, info)\n",
    "\n",
    "        if done:\n",
    "            done_num+=1\n",
    "            # episode_memory.update_memory_done(env.img_info, [env.mol_center_x_nm, env.mol_center_y_nm], [0.0, 0.0])\n",
    "            episode_memory.update_memory_done(env.img_info)\n",
    "            episode_memory.save_memory(folder_name)\n",
    "            print('Episode reward:', episode_reward)\n",
    "            break\n",
    "        else:\n",
    "            state = next_state\n",
    "            #state, info, check_similarity, candidate_mols = env.reset(all_file_label=str(i_episode)+str(step),current_time='10_30_20_48', new_scan_region=True, check_similarity=check_similarity, candidate_mols=candidate_mols)\n",
    "        if new_mol:\n",
    "            break\n",
    "\n",
    "        if (len(memory)>batch_size):\n",
    "            episode_K = int(episode_steps)\n",
    "            for k in range(episode_K):\n",
    "                c_k = max(int(memory.__len__()*eta**((k)*(1000/episode_K))), 500)\n",
    "                agent.update_parameters(memory, batch_size, c_k)\n",
    "\n",
    "\n",
    "    # if done_num>1:   \n",
    "    #     if (len(memory)>batch_size):\n",
    "    #         episode_K = int(episode_steps)\n",
    "    #         for k in range(episode_K):\n",
    "    #             c_k = max(int(memory.__len__()*eta**((k)*(1000/episode_K))), 500)\n",
    "    #             agent.update_parameters(memory, batch_size, c_k)\n",
    "    \n",
    "    episode_rewards.append(episode_reward)\n",
    "\n",
    "    with open('episode_reward_1116.txt', 'a') as fp:\n",
    "        fp.write('%s, %.2f, %.2f\\n' % (i_episode, episode_reward, episode_steps))\n",
    "    plt.scatter(i_episode, episode_reward, c='b')\n",
    "    \n",
    "\n",
    "    episode_lengths.append(episode_steps)\n",
    "    avg_episode_rewards.append(np.mean(episode_rewards[-min(100,len(episode_rewards)):]))\n",
    "    avg_alphas.append(np.mean(alphas[-min(100, len(alphas)):]))\n",
    "    avg_episode_lengths.append(np.mean(episode_lengths[-min(100, len(episode_lengths)):]))\n",
    "    \n",
    "\n",
    "        \n",
    "    if (i_episode)%5 == 0:\n",
    "        agent.save_model(filename='ddpg_%s' % i_episode)\n"
   ]
  },
  {
   "cell_type": "markdown",
   "metadata": {},
   "source": [
    "# reinforcement learning traning mode (sac)"
   ]
  },
  {
   "cell_type": "code",
   "execution_count": null,
   "metadata": {},
   "outputs": [],
   "source": [
    "current_time=None\n",
    "num_episodes=1000\n",
    "episode_start=0\n",
    "done_num=0\n",
    "new_mol=False\n",
    "for i_episode in range(episode_start,episode_start+num_episodes):\n",
    "    print('Episode:', i_episode)\n",
    "    episode_reward, episode_steps = 0, 0\n",
    "    done = False\n",
    "    if new_mol:\n",
    "        state, info, check_similarity, candidate_mols = env.reset(all_file_label=str(i_episode),current_time=current_time, find_mol=True, new_scan_region=True, check_similarity=check_similarity, candidate_mols=candidate_mols)\n",
    "    else:\n",
    "        state, info, check_similarity, candidate_mols = env.reset(all_file_label=str(i_episode),current_time=current_time, find_mol=False, new_scan_region=True, check_similarity=check_similarity, candidate_mols=candidate_mols)\n",
    "    current_time=env.get_state_current_time\n",
    "    episode_memory.update_memory_reset(env.img_info, i_episode, info)\n",
    "\n",
    "\n",
    "    for step in range(max_steps):\n",
    "        if i_episode<6:\n",
    "            action = env.random_action_generator()\n",
    "        else:\n",
    "            action = agent.select_action(state)\n",
    "\n",
    "        print('state:', state)\n",
    "        print('action:', action)\n",
    "\n",
    "        next_state, reward, done, info, new_mol = env.step(action, all_file_label=str(i_episode)+'_'+str(step),current_time=current_time, check_similarity=check_similarity, candidate_mols=candidate_mols)\n",
    "        print('episode: %s reward: %s done: %s state: %s next_state: %s' % (str(i_episode)+'_'+str(step), reward, done, state, next_state))\n",
    "        episode_steps+=1\n",
    "        episode_reward+=reward\n",
    "        mask = float(not done)\n",
    "        memory.push(state,action,reward,next_state,mask)\n",
    "        episode_memory.update_memory_step(state, action, next_state, reward, done, info)\n",
    "\n",
    "        if done:\n",
    "            done_num+=1\n",
    "            # episode_memory.update_memory_done(env.img_info, [env.mol_center_x_nm, env.mol_center_y_nm], [0.0, 0.0])\n",
    "            episode_memory.update_memory_done(env.img_info)\n",
    "            episode_memory.save_memory(folder_name)\n",
    "            print('Episode reward:', episode_reward)\n",
    "            break\n",
    "        else:\n",
    "            state = next_state\n",
    "            #state, info, check_similarity, candidate_mols = env.reset(all_file_label=str(i_episode)+str(step),current_time='10_30_20_48', new_scan_region=True, check_similarity=check_similarity, candidate_mols=candidate_mols)\n",
    "        if new_mol:\n",
    "            break\n",
    "\n",
    " \n",
    "        if (len(memory)>batch_size):\n",
    "            episode_K = int(episode_steps)\n",
    "            for k in range(episode_K):\n",
    "                c_k = max(int(memory.__len__()*eta**((k)*(1000/episode_K))), 500)\n",
    "                agent.update_parameters(memory, batch_size, c_k)\n",
    "\n",
    "    # if done_num>1:   \n",
    "    #     if (len(memory)>batch_size):\n",
    "    #         episode_K = int(episode_steps)\n",
    "    #         for k in range(episode_K):\n",
    "    #             c_k = max(int(memory.__len__()*eta**((k)*(1000/episode_K))), 500)\n",
    "    #             agent.update_parameters(memory, batch_size, c_k)\n",
    "    \n",
    "    episode_rewards.append(episode_reward)\n",
    "    alphas.append(agent.alpha.item())\n",
    "    with open('episode_reward_110713_sac.txt', 'a') as fp:\n",
    "        fp.write('%s, %.2f, %.2f\\n' % (i_episode, episode_reward, episode_steps))\n",
    "    plt.scatter(i_episode, episode_reward, c='b')\n",
    "    \n",
    "\n",
    "    episode_lengths.append(episode_steps)\n",
    "    avg_episode_rewards.append(np.mean(episode_rewards[-min(100,len(episode_rewards)):]))\n",
    "    avg_alphas.append(np.mean(alphas[-min(100, len(alphas)):]))\n",
    "    avg_episode_lengths.append(np.mean(episode_lengths[-min(100, len(episode_lengths)):]))\n",
    "    \n",
    "\n",
    "        \n",
    "    if (i_episode)%5 == 0:\n",
    "        torch.save(agent.critic.state_dict(), '{}/_critic_{}.pth'.format(folder_name,i_episode))\n",
    "        torch.save(agent.policy.state_dict(), '{}/_policy_{}.pth'.format(folder_name,i_episode))\n",
    "        torch.save(agent.alpha, '{}/_alpha_{}.pth'.format(folder_name,i_episode))\n",
    "        # torch.save(env.atom_move_detector.conv.state_dict(), '{}/_atom_move_detector_conv_{}.pth'.format(folder_name,i_episode))"
   ]
  },
  {
   "cell_type": "code",
   "execution_count": null,
   "metadata": {},
   "outputs": [],
   "source": [
    "plt.plot([i for i in range(len(episode_rewards))], episode_rewards)"
   ]
  },
  {
   "cell_type": "code",
   "execution_count": null,
   "metadata": {},
   "outputs": [],
   "source": [
    "episode_rewards"
   ]
  },
  {
   "cell_type": "code",
   "execution_count": null,
   "metadata": {},
   "outputs": [],
   "source": [
    "for i in range(100):\n",
    "\n",
    "    state, info, check_similarity, candidate_mols = env.reset(all_file_label=str(i),current_time='10_30_20_48', new_scan_region=True, check_similarity=check_similarity, candidate_mols=candidate_mols)\n",
    "    \n",
    "    \n",
    "    action = agent.select_action(state)\n",
    "    next_state, reward, done, info = env.step(action, all_file_label=str(i),current_time='10_30_20_48', check_similarity=check_similarity, candidate_mols=candidate_mols)\n",
    "    print('episode: %s reward: %s done: %s state: %s next_state: %s' % (i, reward, done, state, next_state))\n",
    "\n"
   ]
  },
  {
   "cell_type": "code",
   "execution_count": null,
   "metadata": {},
   "outputs": [],
   "source": [
    "show_reset(env.img_info, env.atom_start_absolute_nm, env.destination_absolute_nm,\n",
    "        env.template_nm, env.template_wh)\n",
    "episode_memory.update_memory_reset(env.img_info, i_episode, info)"
   ]
  },
  {
   "cell_type": "code",
   "execution_count": null,
   "metadata": {},
   "outputs": [],
   "source": []
  },
  {
   "cell_type": "code",
   "execution_count": null,
   "metadata": {},
   "outputs": [],
   "source": [
    "for i_episode in range(episode_start,episode_start+num_episodes):\n",
    "    print('Episode:', i_episode)\n",
    "    episode_reward, episode_steps = 0, 0\n",
    "    done = False\n",
    "    state, info = env.reset(update_conv_net=False)\n",
    "    show_reset(env.img_info, env.atom_start_absolute_nm, env.destination_absolute_nm,\n",
    "            env.template_nm, env.template_wh)\n",
    "    episode_memory.update_memory_reset(env.img_info, i_episode, info)\n",
    "    \n",
    "    for step in range(max_steps):\n",
    "        action = agent.select_action(state)\n",
    "        old_atom_nm = env.atom_absolute_nm\n",
    "        next_state, reward, done, info = env.step(action)\n",
    "        episode_steps+=1\n",
    "        episode_reward+=reward\n",
    "        mask = float(not done)\n",
    "        memory.push(state,action,reward,next_state,mask)\n",
    "        episode_memory.update_memory_step(state, action, next_state, reward, done, info)\n",
    "        show_step(env.img_info, info['start_nm']+old_atom_nm, info['end_nm']+old_atom_nm,\n",
    "                    env.atom_absolute_nm, env.atom_start_absolute_nm, \n",
    "                    env.destination_absolute_nm, action[4]*env.max_mvoltage, \n",
    "                    action[5]*env.max_pcurrent*action[4]*env.max_mvoltage, \n",
    "                    env.template_nm, env.template_wh)\n",
    "        print('step:', step,'reward', reward, 'precision:', env.dist_destination)\n",
    "        if done:\n",
    "            episode_memory.update_memory_done(env.img_info, env.atom_absolute_nm, env.atom_relative_nm)\n",
    "            episode_memory.save_memory(folder_name)\n",
    "            print('Episode reward:', episode_reward)\n",
    "            break\n",
    "        else:                \n",
    "            state=next_state\n",
    "        \n",
    "    if (len(memory)>batch_size):\n",
    "        episode_K = int(episode_steps)\n",
    "        for k in range(episode_K):\n",
    "            c_k = max(int(memory.__len__()*eta**((k)*(1000/episode_K))), 500)\n",
    "            agent.update_parameters(memory, batch_size, c_k)\n",
    "    \n",
    "    episode_rewards.append(episode_reward)\n",
    "    alphas.append(agent.alpha.item())\n",
    "    precisions.append(env.dist_destination)\n",
    "    episode_lengths.append(episode_steps)\n",
    "    avg_episode_rewards.append(np.mean(episode_rewards[-min(100,len(episode_rewards)):]))\n",
    "    avg_alphas.append(np.mean(alphas[-min(100, len(alphas)):]))\n",
    "    avg_precisions.append(np.mean(precisions[-min(100, len(precisions)):]))\n",
    "    avg_episode_lengths.append(np.mean(episode_lengths[-min(100, len(episode_lengths)):]))\n",
    "    \n",
    "    if (i_episode+1)%2==0:\n",
    "        plot_graph(episode_rewards, precisions, alphas, episode_lengths,\n",
    "                avg_episode_rewards, avg_alphas, avg_precisions, avg_episode_lengths)\n",
    "        \n",
    "    if (i_episode)%20 == 0:\n",
    "        torch.save(agent.critic.state_dict(), '{}/_critic_{}.pth'.format(folder_name,i_episode))\n",
    "        torch.save(agent.policy.state_dict(), '{}/_policy_{}.pth'.format(folder_name,i_episode))\n",
    "        torch.save(agent.alpha, '{}/_alpha_{}.pth'.format(folder_name,i_episode))\n",
    "        torch.save(env.atom_move_detector.conv.state_dict(), '{}/_atom_move_detector_conv_{}.pth'.format(folder_name,i_episode))"
   ]
  },
  {
   "cell_type": "code",
   "execution_count": null,
   "metadata": {},
   "outputs": [],
   "source": [
    "env.scan_ref_x_center = 187\n",
    "env.scan_ref_y_center = -163\n",
    "pixel_small=128\n",
    "scan_len_nm_small=3.5\n",
    "diss_maxtime=100\n",
    "diss_radius_nm=1.0\n",
    "diss_mvoltage_ref=2500\n",
    "diss_pcurrent_ref=600\n",
    "diss_z_nm=20\n",
    "total_output_folder = 'all_output'\n",
    "task_folder_prefix = 'vertmani'\n",
    "save_scan_img_large_prefix = 'scan_img_large'\n",
    "save_scan_img_before_prefix = 'scan_img_before'\n",
    "save_scan_img_after_prefix = 'scan_img_after'\n",
    "save_scan_data_large_prefix = 'scan_data_large'\n",
    "save_scan_data_before_prefix = 'scan_data_before'\n",
    "save_scan_data_after_prefix = 'scan_data_after'\n",
    "save_vert_data_prefix = 'vert_data'\n",
    "save_vert_tip_pos_prefix = 'vert_tip_pos'\n",
    "current_time = datetime.datetime.now()\n",
    "task_folder='%s/%s_%s_%s_%s_%s' % (total_output_folder, task_folder_prefix, current_time.month, current_time.day, current_time.hour, current_time.minute)\n",
    "save_img_large='%s/%s_%s_%s_%s_%s' % (task_folder, save_scan_img_large_prefix, current_time.month, current_time.day, current_time.hour, current_time.minute)\n",
    "save_img_before='%s/%s_%s_%s_%s_%s' % (task_folder, save_scan_img_before_prefix, current_time.month, current_time.day, current_time.hour, current_time.minute)\n",
    "save_img_after='%s/%s_%s_%s_%s_%s' % (task_folder, save_scan_img_after_prefix, current_time.month, current_time.day, current_time.hour, current_time.minute)\n",
    "save_data_large='%s/%s_%s_%s_%s_%s' % (task_folder, save_scan_data_large_prefix, current_time.month, current_time.day, current_time.hour, current_time.minute)\n",
    "save_data_before='%s/%s_%s_%s_%s_%s' % (task_folder, save_scan_data_before_prefix, current_time.month, current_time.day, current_time.hour, current_time.minute)\n",
    "save_data_after='%s/%s_%s_%s_%s_%s' % (task_folder, save_scan_data_after_prefix, current_time.month, current_time.day, current_time.hour, current_time.minute)\n",
    "save_vert_data='%s/%s_%s_%s_%s_%s' % (task_folder, save_vert_data_prefix, current_time.month, current_time.day, current_time.hour, current_time.minute)\n",
    "save_vert_tip_pos='%s/%s_%s_%s_%s_%s' % (task_folder, save_vert_tip_pos_prefix, current_time.month, current_time.day, current_time.hour, current_time.minute)\n",
    "\n",
    "# check if these folders exist\n",
    "\n",
    "if not os.path.exists(task_folder):\n",
    "    os.mkdir(task_folder)\n",
    "if not os.path.exists(save_img_large):\n",
    "    os.mkdir(save_img_large)\n",
    "if not os.path.exists(save_img_before):\n",
    "    os.mkdir(save_img_before)\n",
    "if not os.path.exists(save_img_after):\n",
    "    os.mkdir(save_img_after)\n",
    "if not os.path.exists(save_data_large):\n",
    "    os.mkdir(save_data_large)\n",
    "if not os.path.exists(save_data_before):\n",
    "    os.mkdir(save_data_before)\n",
    "if not os.path.exists(save_data_after):\n",
    "    os.mkdir(save_data_after)\n",
    "if not os.path.exists(save_vert_data):\n",
    "    os.mkdir(save_vert_data)\n",
    "if not os.path.exists(save_vert_tip_pos):\n",
    "    os.mkdir(save_vert_tip_pos)\n",
    "\n",
    "with open(task_folder+'/task_info.txt', 'w') as f:\n",
    "    f.write('diss_maxtime: %s\\n' % diss_maxtime)\n",
    "    f.write('diss_radius_nm: %s\\n' % diss_radius_nm)\n",
    "    f.write('diss_mvoltage_ref: %s\\n' % diss_mvoltage_ref)\n",
    "    f.write('diss_pcurrent_ref: %s\\n' % diss_pcurrent_ref)\n",
    "    f.write('diss_z_nm: %s\\n' % diss_z_nm)\n",
    "    f.write('total_output_folder: %s\\n' % total_output_folder)\n",
    "\n",
    "\n",
    "mol_num=0\n",
    "diss_i=0\n",
    "mol_center_x_nm,mol_center_y_nm, check_similarity, candidate_mols=env.get_state(x_nm=env.createc_controller.get_offset_nm()[0], y_nm=env.createc_controller.get_offset_nm()[1], scan_len_nm_large=20, new_scan_region=True,img_name='%s_%s' % ('start', mol_num), data_name='%s_%s' % ('start', mol_num))\n",
    "get_state_current_time=env.get_state_current_time\n",
    "scan_mol_x_nm, scan_mol_y_nm = env.createc_controller.get_offset_nm()\n",
    "\n",
    "\n",
    "find_mol=True\n",
    "\n",
    "result=[]\n",
    "for diss_i in tqdm(range(diss_maxtime)):\n",
    "    while not find_mol:\n",
    "            mol_center_x_nm,mol_center_y_nm, check_similarity, candidate_mols=env.get_state(x_nm=env.createc_controller.get_offset_nm()[0], y_nm=env.createc_controller.get_offset_nm()[1], scan_len_nm_large=20, new_scan_region=True, check_similarity=check_similarity, candidate_mols=candidate_mols,  current_time=get_state_current_time, img_name='%s_%s' % (diss_i, mol_num), data_name='%s_%s' % (diss_i, mol_num))\n",
    "            scan_mol_x_nm, scan_mol_y_nm = env.createc_controller.get_offset_nm()\n",
    "            find_mol=True\n",
    "            # env.save_scan_image(x_nm=scan_mol_x_nm, y_nm=scan_mol_y_nm, pixel=pixel_small, scan_speed=200, scan_len_nm=scan_len_nm_small, save_img_folder=save_img_before, save_data_folder=save_data_before, img_name='%s_%s' % (diss_i, mol_num), data_name='%s_%s' % (diss_i, mol_num))\n",
    "            # img_small=cv2.imread('%s/img_forward_%s_%s.png' % (save_img_before, diss_i, mol_num), cv2.IMREAD_GRAYSCALE)\n",
    "            # img_prop_small=mol_property(img_small, offset_x_nm=scan_mol_x_nm, offset_y_nm=scan_mol_y_nm, len_nm=scan_len_nm_small)\n",
    "            # img_prop_small.center_points_from_contour()\n",
    "            # img_prop_small.contour_property()\n",
    "            # mol_center_x_nm=img_prop_small.ellipse_x\n",
    "            # mol_center_y_nm=img_prop_small.ellipse_y\n",
    "            # try:\n",
    "            #     env.adjust_mol_pos([mol_center_x_nm,mol_center_y_nm], scan_len_nm_small=3.5, pixel_small=128, scan_speed=200, save_img_folder=save_img_before, save_data_folder=save_data_before, img_name='%s_%s_adjust' % (diss_i, mol_num), data_name='%s_%s_adjust' % (diss_i, mol_num))\n",
    "            #     scan_mol_x_nm, scan_mol_y_nm = env.createc_controller.get_offset_nm()\n",
    "            #     find_mol=True\n",
    "            # except:\n",
    "            #     find_mol=False\n",
    "    env.save_scan_image(x_nm=scan_mol_x_nm, y_nm=scan_mol_y_nm, pixel=pixel_small, scan_speed=200, scan_len_nm=scan_len_nm_small, save_img_folder=save_img_before, save_data_folder=save_data_before, img_name='%s_%s' % (diss_i, mol_num), data_name='%s_%s' % (diss_i, mol_num))\n",
    "    img_small=cv2.imread('%s/img_forward_%s_%s.png' % (save_img_before, diss_i, mol_num), cv2.IMREAD_GRAYSCALE)\n",
    "    img_prop_small=mol_property(img_small, offset_x_nm=scan_mol_x_nm, offset_y_nm=scan_mol_y_nm, len_nm=scan_len_nm_small)\n",
    "    img_prop_small.center_points_from_contour()\n",
    "    img_prop_small.contour_property()\n",
    "    mol_center_x_nm=img_prop_small.ellipse_x\n",
    "    mol_center_y_nm=img_prop_small.ellipse_y\n",
    "\n",
    "\n",
    "    print('Epoch %s dissociation now' % diss_i)\n",
    "\n",
    "    diss_x_nm=mol_center_x_nm+diss_radius_nm*(np.random.rand()*2-1)\n",
    "    diss_y_nm=mol_center_y_nm+diss_radius_nm*(np.random.rand()*2-1)\n",
    "    if diss_i<4:\n",
    "        diss_mvoltage=diss_mvoltage_ref+400*(np.random.rand()*2-1)\n",
    "        diss_pcurrent=diss_pcurrent_ref+200*(np.random.rand()*2-1)\n",
    "    else:\n",
    "        diss_mvoltage=diss_mvoltage_ref+1000*(np.random.rand()*2-1)\n",
    "        diss_pcurrent=diss_pcurrent_ref+600*(np.random.rand()*2-1)\n",
    "\n",
    "\n",
    "    vert_data=env.createc_controller.diss_manipulation(diss_x_nm, diss_y_nm, diss_z_nm, diss_mvoltage, diss_pcurrent, np.array([scan_mol_x_nm, scan_mol_y_nm]), scan_len_nm_small)\n",
    "    done_diss=env.old_detect_diss(np.array(vert_data.topography))\n",
    "    print('Epoch %s dissociation topography: %s' % (diss_i, env.diff_topography))\n",
    "    vert_tip_pos=[diss_i, mol_center_x_nm, mol_center_y_nm, diss_x_nm, diss_y_nm, diss_z_nm, diss_mvoltage, diss_pcurrent, done_diss]\n",
    "    with open(save_vert_data+'/vert_data_%s.pkl' % diss_i, \"wb\") as fp:  \n",
    "        pickle.dump(vert_data, fp)\n",
    "    with open(save_vert_tip_pos+'/vert_tip_pos_%s.pkl' % diss_i, \"wb\") as fp:\n",
    "        pickle.dump(vert_tip_pos, fp)\n",
    "    \n",
    "    \n",
    "    # tip forming\n",
    "    print('start tip forming now')\n",
    "    # env.tip_form_region()\n",
    "    if done_diss or diss_i%10==5:\n",
    "        env.tip_form_region()\n",
    "\n",
    "        # scan image after manipulation\n",
    "    print('Epoch %s scan a image after dissociating now....' % (diss_i))\n",
    "    env.save_scan_image(x_nm=scan_mol_x_nm, y_nm=scan_mol_y_nm, pixel=pixel_small, scan_speed=200, scan_len_nm=scan_len_nm_small, save_img_folder=save_img_after, save_data_folder=save_data_after, img_name='%s_%s' % (diss_i, mol_num), data_name='%s_%s' % (diss_i, mol_num))\n",
    "    img_small=cv2.imread('%s/img_forward_%s_%s.png' % (save_img_after, diss_i, mol_num), cv2.IMREAD_GRAYSCALE)\n",
    "    img_prop_small=mol_property(img_small, offset_x_nm=scan_mol_x_nm, offset_y_nm=scan_mol_y_nm, len_nm=scan_len_nm_small)\n",
    "    img_prop_small.center_points_from_contour()\n",
    "    find_mol=False\n",
    "\n",
    "    if len(img_prop_small.contours)>0 and len(img_prop_small.contours_max)>10 and  len(img_prop_small.detect_mols_from_contours)>0 and (not done_diss):\n",
    "        img_prop_small.contour_property()\n",
    "        if img_prop_small.area<3.0 and img_prop_small.area>0.5:\n",
    "            mol_center_x_nm=img_prop_small.ellipse_x\n",
    "            mol_center_y_nm=img_prop_small.ellipse_y\n",
    "            if  mol_center_x_nm>scan_mol_x_nm-scan_len_nm_small/8 and mol_center_x_nm<scan_mol_x_nm+scan_len_nm_small/8 and mol_center_y_nm>scan_mol_y_nm+scan_len_nm_small*3/8 and mol_center_y_nm<scan_mol_y_nm+scan_len_nm_small*5/8:\n",
    "                    scan_mol_x_nm, scan_mol_y_nm = env.createc_controller.get_offset_nm()\n",
    "                    find_mol=True\n",
    "           \n",
    "            else:\n",
    "                print('adjust mol pos')\n",
    "                scan_mol_x_nm=mol_center_x_nm\n",
    "                scan_mol_y_nm=mol_center_y_nm-scan_len_nm_small/2 \n",
    "                env.save_scan_image(x_nm=scan_mol_x_nm, y_nm=scan_mol_y_nm, pixel=pixel_small, scan_speed=200, scan_len_nm=scan_len_nm_small, save_img_folder=save_img_after, save_data_folder=save_data_after, img_name='%s_%s_adjust' % (diss_i, mol_num), data_name='%s_%s_adjust' % (diss_i, mol_num))\n",
    "    #        env.adjust_mol_pos([mol_center_x_nm,mol_center_y_nm], scan_len_nm_small=3.5, pixel_small=128, scan_speed=200, save_img_folder=save_img_after, save_data_folder=save_data_after, img_name='%s_%s_adjust' % (diss_i, mol_num), data_name='%s_%s_adjust' % (diss_i, mol_num))\n",
    "                img_small=cv2.imread('%s/img_forward_%s_%s_adjust.png' % (save_img_after, diss_i, mol_num), cv2.IMREAD_GRAYSCALE)\n",
    "                scan_mol_x_nm, scan_mol_y_nm = env.createc_controller.get_offset_nm()\n",
    "                img_prop_small=mol_property(img_small, offset_x_nm=scan_mol_x_nm, offset_y_nm=scan_mol_y_nm, len_nm=scan_len_nm_small)\n",
    "                img_prop_small.center_points_from_contour()\n",
    "                img_prop_small.contour_property()\n",
    "                if img_prop_small.area<3.0 and img_prop_small.area>1.5:\n",
    "                    mol_center_x_nm=img_prop_small.ellipse_x\n",
    "                    mol_center_y_nm=img_prop_small.ellipse_y\n",
    "                    # env.adjust_mol_pos([mol_center_x_nm,mol_center_y_nm], scan_len_nm_small=3.5, pixel_small=128, scan_speed=200, save_img_folder=save_img_after, save_data_folder=save_data_after, img_name='%s_%s_adjust' % (diss_i, mol_num), data_name='%s_%s_adjust' % (diss_i, mol_num))\n",
    "                    scan_mol_x_nm, scan_mol_y_nm = env.createc_controller.get_offset_nm()\n",
    "                    find_mol=True\n",
    "\n",
    "    while not find_mol:\n",
    "            mol_num=mol_num+1\n",
    "            find_mol=False\n",
    "            mol_center_x_nm, mol_center_y_nm, check_similarity, candidate_mols=env.get_state(x_nm=env.createc_controller.get_offset_nm()[0], y_nm=env.createc_controller.get_offset_nm()[1], scan_len_nm_large=20, new_scan_region=True, check_similarity=check_similarity, candidate_mols=candidate_mols,  current_time=get_state_current_time, img_name='%s_%s' % (diss_i, mol_num), data_name='%s_%s' % (diss_i, mol_num))\n",
    "            scan_mol_x_nm, scan_mol_y_nm = env.createc_controller.get_offset_nm()\n",
    "            find_mol=True\n",
    "\n",
    "            # try:\n",
    "            #     env.adjust_mol_pos([mol_center_x_nm,mol_center_y_nm], scan_len_nm_small=3.5, pixel_small=128, scan_speed=200, save_img_folder=save_img_before, save_data_folder=save_data_before, img_name='%s_%s_adjust' % (diss_i, mol_num), data_name='%s_%s_adjust' % (diss_i, mol_num))\n",
    "            #     scan_mol_x_nm, scan_mol_y_nm = env.createc_controller.get_offset_nm()\n",
    "            #     find_mol=True\n",
    "            # except:\n",
    "            #     find_mol=False\n",
    "            \n",
    "\n",
    "\n",
    "\n",
    "    print('mol pos:', mol_center_x_nm, mol_center_y_nm)\n",
    "    # result.append([img_prop_small.ellipse_x, img_prop_small.ellipse_y, img_prop_small.ellipse_width, img_prop_small.ellipse_height, img_prop_small.ellipse_angle])\n",
    "    \n"
   ]
  },
  {
   "cell_type": "code",
   "execution_count": null,
   "metadata": {},
   "outputs": [],
   "source": [
    "c"
   ]
  },
  {
   "cell_type": "code",
   "execution_count": null,
   "metadata": {},
   "outputs": [],
   "source": []
  },
  {
   "cell_type": "code",
   "execution_count": null,
   "metadata": {},
   "outputs": [],
   "source": []
  },
  {
   "cell_type": "code",
   "execution_count": null,
   "metadata": {},
   "outputs": [],
   "source": []
  },
  {
   "cell_type": "code",
   "execution_count": null,
   "metadata": {},
   "outputs": [],
   "source": [
    "# env.scan_ref_x=-100\n",
    "# env.scan_ref_y=-100\n",
    "x, y=-305.88761711120605, -240.23584938049316\n",
    "x, y= -150, -150\n",
    "env.scan_ref_x=x\n",
    "env.scan_ref_y=y\n",
    "check_similarity=None\n",
    "# check_similarity.append([x,y])\n",
    "forbid_radius=15\n",
    "simi_forbid_radius=15\n",
    "plt.scatter(x,y)\n",
    "plt.text(x,y,0)\n",
    "plt.gca().add_patch(patches.Circle((x,y), radius=forbid_radius, fill=False, color='r'))\n",
    "for i  in range(20):\n",
    "    # if i%4==0:\n",
    "    #     x,y =env.get_nextgoodcloest(x, y, approach_limit=[-310, 0, -260, 0], forbid_radius=forbid_radius*2, simi_forbid_radius=simi_forbid_radius*2, detect_similarity=True, check_similarity=check_similarity)\n",
    "    #     plt.gca().add_patch(patches.Circle((x,y), radius=forbid_radius*2, fill=False, color='r'))\n",
    "    # else:\n",
    "    x,y =env.get_nextgoodcloest(x, y, approach_limit=[-310, 0, -260, 0], forbid_radius=forbid_radius, simi_forbid_radius=simi_forbid_radius, detect_similarity=True, check_similarity=check_similarity)\n",
    "    check_similarity.append([x,y])\n",
    "    plt.text(x,y,i+1)\n",
    "    plt.gca().add_patch(patches.Rectangle((x-5,y-10), 10, 10, fill=False, color='r'))\n",
    "    # plt.gca().add_patch(patches.Circle((x,y), radius=forbid_radius, fill=False, color='r'))\n",
    "\n",
    "\n",
    "\n",
    "plt.xlim(-320, 320)\n",
    "plt.ylim(-320, 260)"
   ]
  },
  {
   "cell_type": "code",
   "execution_count": null,
   "metadata": {},
   "outputs": [],
   "source": [
    "env.num_cell"
   ]
  },
  {
   "cell_type": "code",
   "execution_count": null,
   "metadata": {},
   "outputs": [],
   "source": [
    "img_10nm=cv2.imread('img_10nm_new_10.jpeg') \n",
    "plt.imshow(img_10nm)    "
   ]
  },
  {
   "cell_type": "code",
   "execution_count": null,
   "metadata": {},
   "outputs": [],
   "source": [
    "selected_points, target_points = assign_point_to_point=assign_mol_design(img_10nm, x_nm=-256.034, y_nm=-34.382,len_nm=10, pixel=256, grid_num=6)"
   ]
  },
  {
   "cell_type": "code",
   "execution_count": null,
   "metadata": {},
   "outputs": [],
   "source": [
    "selected_points=[selected_points[i] for i in [0, 1, 2, 5, 6, 7, 8, 9]]\n",
    "target_points=[target_points[i] for i in [0, 1, 2, 5, 6, 7, 8, 9]]"
   ]
  },
  {
   "cell_type": "code",
   "execution_count": null,
   "metadata": {},
   "outputs": [],
   "source": [
    "plt.imshow(img_10nm, extent=[-261.034, -251.034, -24.382, -34.382])\n",
    "for i in range(len(selected_points)):\n",
    "    plt.text(selected_points[i][0], selected_points[i][1], str(i), color='purple', fontsize=10)\n",
    "    plt.scatter(selected_points[i][0], selected_points[i][1], c='r', s=100)\n",
    "    plt.scatter(target_points[i][0], target_points[i][1], c='b', s=100)\n",
    "    plt.plot([selected_points[i][0], target_points[i][0]], [selected_points[i][1], target_points[i][1]], c='g', linewidth=3)\n",
    "\n",
    "\n"
   ]
  },
  {
   "cell_type": "code",
   "execution_count": null,
   "metadata": {},
   "outputs": [],
   "source": [
    "img_10nm=cv2.imread('img_10nm_new_11.jpeg') \n",
    "plt.imshow(img_10nm)    "
   ]
  },
  {
   "cell_type": "code",
   "execution_count": null,
   "metadata": {},
   "outputs": [],
   "source": [
    "selected_points, target_points = assign_point_to_point=assign_mol_design(img_10nm, x_nm=252.654, y_nm=198.085, len_nm=10, pixel=256, grid_num=6)"
   ]
  },
  {
   "cell_type": "code",
   "execution_count": null,
   "metadata": {},
   "outputs": [],
   "source": [
    "selected_points=[selected_points[i] for i in [0, 2, 5, 6, 9, 10, 14, 15, 21, 23]]\n",
    "target_points=[target_points[i] for i in [0, 2, 5, 6, 9, 10, 14, 15, 21, 23]]"
   ]
  },
  {
   "cell_type": "code",
   "execution_count": null,
   "metadata": {},
   "outputs": [],
   "source": [
    "lat_mani_separate_mols(img_10nm, selected_points, target_points)"
   ]
  },
  {
   "cell_type": "code",
   "execution_count": null,
   "metadata": {},
   "outputs": [],
   "source": [
    "lat_mani_separate_mols(img_10nm, selected_points, target_points, implement=False)"
   ]
  },
  {
   "cell_type": "code",
   "execution_count": null,
   "metadata": {},
   "outputs": [],
   "source": [
    "x_nm=-256.034\n",
    "y_nm=-34.382\n",
    "len_nm=10\n",
    "num_lat=0\n",
    "for i in range(1, 7):\n",
    "    # x=x_nm-len_nm/2+len_nm/pixel*selected_points[i][0]\n",
    "    # y=y_nm+len_nm/pixel*selected_points[i][1]\n",
    "    # x_end=x_nm-len_nm/2+len_nm/pixel*target_points[i][2]\n",
    "    # y_end=y_nm+len_nm/pixel*target_points[i][3]\n",
    "    # plt.scatter([x], [y], s=1, c='r')\n",
    "\n",
    "    x=selected_points[i][0]\n",
    "    y=selected_points[i][1]\n",
    "    x_end=target_points[i][0]\n",
    "    y_end=target_points[i][1]\n",
    "\n",
    "    plt.scatter([x], [y], s=100, c='r')\n",
    "    plt.scatter([x_end], [y_end], s=100, c='b')\n",
    "    # plt.plot([x, x_end], [y, y_end], c='g', linewidth=1)\n",
    "\n",
    "    # check_points.remove([data['x'][i], data['y'][i]])\n",
    "    for epoch in range(3):\n",
    "        if (tip_lat_all[num_lat][0]==i) and (tip_lat_all[num_lat][1]==epoch):\n",
    "            tip_lat_start_end=tip_lat_all[num_lat]\n",
    "            plt.scatter([tip_lat_start_end[2]], [tip_lat_start_end[3]], s=1, c='r')\n",
    "            plt.scatter([tip_lat_start_end[4]], [tip_lat_start_end[5]], s=1, c='b')\n",
    "            plt.plot([tip_lat_start_end[2], tip_lat_start_end[4]], [tip_lat_start_end[3], tip_lat_start_end[5]], c='g', linewidth=1)\n",
    "            plt.text(tip_lat_start_end[2], tip_lat_start_end[3], i, color='purple', fontsize=10)\n",
    "            num_lat+=1\n",
    "        else:\n",
    "            pass\n",
    "\n",
    "plt.xlim(x_nm-len_nm/2-2, x_nm+len_nm/2+2)\n",
    "plt.ylim(y_nm+len+2, y_nm-2)"
   ]
  },
  {
   "cell_type": "code",
   "execution_count": null,
   "metadata": {},
   "outputs": [],
   "source": [
    "def lat_mani_separate_mols(img, selected_points, target_points, x_nm=252.654, y_nm=198.085, len_nm=10, pixel=256, init_len=0.5, move_len=5, scan_nm_small=10, tip_form_x=225.781, tip_form_y=215.751, tip_len=100, plot_graph=True, implement=True):\n",
    "\n",
    "    # check_points=[[data['x'][i], data['y'][i]] for i in range(len(data))]\n",
    "    # check_points_full=[[data['x'][i], data['y'][i]] for i in range(len(data))]\n",
    "    check_points=[[selected_points[i][0], selected_points[i][1]] for i in range(len(selected_points))]\n",
    "    check_points_full=[[selected_points[i][0], selected_points[i][1]] for i in range(len(selected_points))]\n",
    "\n",
    "\n",
    "    move_points=[]\n",
    "    plt.imshow(img, extent=[x_nm-len_nm/2, x_nm+len_nm/2, y_nm+len_nm, y_nm])\n",
    "\n",
    "    data_move_all=[]\n",
    "\n",
    "    tip_points=[]\n",
    "    tip_points.append([tip_form_x, tip_form_y])\n",
    "    tip_lat_all=[]\n",
    "    current_time = datetime.datetime.now()\n",
    "    save_before_img='img_before_move_%s_%s_%s_%s' % (current_time.month, current_time.day, current_time.hour, current_time.minute)\n",
    "    save_after_img='img_after_move_%s_%s_%s_%s' % (current_time.month, current_time.day, current_time.hour, current_time.minute)\n",
    "    save_lat_data='lat_data_%s_%s_%s_%s.pkl' % (current_time.month, current_time.day, current_time.hour, current_time.minute)\n",
    "    save_tip_pos='tip_pos_%s_%s_%s_%s.pkl' % (current_time.month, current_time.day, current_time.hour, current_time.minute)\n",
    "\n",
    "    if not os.path.exists(save_before_img):\n",
    "        os.mkdir(save_before_img)\n",
    "    if not os.path.exists(save_after_img):\n",
    "        os.mkdir(save_after_img)\n",
    "    save_mani_pkl='data_move_%s_%s_%s_%s.pkl' % (current_time.month, current_time.day, current_time.hour, current_time.minute)\n",
    "    # for i in range(len(data)):\n",
    "    for i in range(1, len(selected_points)):\n",
    "    # for i in tqdm(range(1, 7)):\n",
    "        # x=x_nm-len_nm/2+len_nm/pixel*selected_points[i][0]\n",
    "        # y=y_nm+len_nm/pixel*selected_points[i][1]\n",
    "        # x_end=x_nm-len_nm/2+len_nm/pixel*target_points[i][2]\n",
    "        # y_end=y_nm+len_nm/pixel*target_points[i][3]\n",
    "        # plt.scatter([x], [y], s=1, c='r')\n",
    "\n",
    "        x=selected_points[i][0]\n",
    "        y=selected_points[i][1]\n",
    "        x_end=target_points[i][0]\n",
    "        y_end=target_points[i][1]\n",
    "\n",
    "        # check_points.remove([data['x'][i], data['y'][i]])\n",
    "        for epoch in range(3):\n",
    "            tip_start_x=x+init_len*(np.random.rand()*2-1)\n",
    "            tip_start_y=y+init_len*(np.random.rand()*2-1)\n",
    "\n",
    "            tip_end_x=x_end+init_len*(np.random.rand()*2-1)\n",
    "            tip_end_y=y_end+init_len*(np.random.rand()*2-1)\n",
    "\n",
    "            # tip_end_x=tip_start_x+move_len*(np.random.rand()*2-1)\n",
    "            # tip_end_y=tip_start_y+move_len*(np.random.rand()*2-1)\n",
    "            check_points_array=np.array(check_points)\n",
    "\n",
    "            # for find_epoch in range(50):\n",
    "            #     if np.sqrt((check_points_array[:, 0]-tip_end_x)**2+(check_points_array[:, 1]-tip_end_y)**2).min()<2:\n",
    "            #         tip_end_x=tip_start_x+init_len*(np.random.rand()*2-1)\n",
    "            #         tip_end_y=tip_start_y+init_len*(np.random.rand()*2-1)\n",
    "            #     else:\n",
    "            #         if find_epoch==49:\n",
    "            #             break\n",
    "            #         else:\n",
    "            #             pass    \n",
    "\n",
    "            # env.createc_controller.offset_nm = np.array([x, y-scan_nm_small/2])\n",
    "            if not implement:\n",
    "                env.createc_controller.offset_nm = np.array([x_nm, y_nm])\n",
    "                env.createc_controller.im_size_nm= scan_nm_small\n",
    "                scan_data=env.createc_controller.scan_image()\n",
    "                plt.imsave('%s/image_forward_%s_%s.png' % (save_before_img, i, epoch), scan_data[0])\n",
    "                plt.imsave('%s/image_backward_%s_%s.png' % (save_before_img, i, epoch), scan_data[1])\n",
    "                plt.imsave('%s/image_for_back_%s_%s.png' % (save_before_img, i, epoch), (scan_data[0]+scan_data[1])/2)\n",
    "\n",
    "            check_points.append([tip_end_x, tip_end_y])\n",
    "            check_points_full.append([tip_end_x, tip_end_y])\n",
    "            move_points.append([tip_end_x, tip_end_y])\n",
    "            plt.scatter([tip_start_x], [tip_start_y], s=1, c='r')\n",
    "            plt.scatter([tip_end_x], [tip_end_y], s=1, c='b')\n",
    "            plt.plot([tip_start_x, tip_end_x], [tip_start_y, tip_end_y], c='g', linewidth=1)\n",
    "            plt.text(tip_start_x, tip_start_y, i, color='purple', fontsize=10)\n",
    "            print(x, y-scan_nm_small/2, tip_start_x, tip_start_y, tip_end_x, tip_end_x)\n",
    "            tip_lat_all.append([i, epoch, tip_start_x, tip_start_y, tip_end_x, tip_end_y])\n",
    "\n",
    "            # data_move=env.createc_controller.lat_manipulation(tip_start_x, tip_start_y, tip_end_x, tip_end_y, 32, 1000, np.array([x, y-scan_nm_small/2]), scan_nm_small)\n",
    "            if not implement:\n",
    "                data_move=env.createc_controller.lat_manipulation(tip_start_x, tip_start_y, tip_end_x, tip_end_y, 32, 1000, np.array([x_nm, y_nm]), scan_nm_small)\n",
    "                data_move_all.append(data_move)\n",
    "                # env.createc_controller.offset_nm = np.array([x, y-scan_nm_small/2])\n",
    "                env.createc_controller.offset_nm = np.array([x_nm, y_nm])\n",
    "                env.createc_controller.im_size_nm= scan_nm_small\n",
    "                scan_data=env.createc_controller.scan_image()\n",
    "                plt.imsave('%s/image_forward_%s_%s.png' % (save_after_img, i, epoch), scan_data[0])\n",
    "                plt.imsave('%s/image_backward_%s_%s.png' % (save_after_img, i, epoch), scan_data[1])\n",
    "                plt.imsave('%s/image_for_back_%s_%s.png' % (save_after_img, i, epoch), (scan_data[0]+scan_data[1])/2)\n",
    "                #  tip form\n",
    "                for j in range(2):\n",
    "                    tip_x=tip_form_x-tip_len/2+tip_len*np.random.rand()\n",
    "                    tip_y=tip_form_y+tip_len*np.random.rand()\n",
    "                    check_tip_points_array=np.array(tip_points)\n",
    "                    while np.sqrt((check_tip_points_array[:, 0]-tip_x)**2+(check_tip_points_array[:, 1]-tip_y)**2).min()<2:\n",
    "                        tip_x=tip_form_x+tip_len*np.random.rand()\n",
    "                        tip_y=tip_form_y+tip_len*np.random.rand()\n",
    "                    up_limit=35\n",
    "                    down_limit=10\n",
    "                    tip_z_approach=down_limit+np.random.rand()*(up_limit-down_limit)\n",
    "                    env.createc_controller.tip_form(tip_z_approach, tip_x, tip_y, np.array([tip_form_x, tip_form_y]), tip_len)  \n",
    "                    tip_points.append([tip_x, tip_y])\n",
    "                    env.createc_controller.set_Z_approach(15)\n",
    "\n",
    "           \n",
    "\n",
    "    if not implement:\n",
    "        env.createc_controller.offset_nm = np.array([x_nm, y_nm])\n",
    "        env.createc_controller.im_size_nm= scan_nm_small\n",
    "        scan_data=env.createc_controller.scan_image()\n",
    "\n",
    "\n",
    "\n",
    "        # check_points.append([data['x'][i], data['y'][i]])  # restore all points in data plus tip_end_points\n",
    "\n",
    "        with open(save_mani_pkl, \"wb\") as fp:   #Pickling\n",
    "            pickle.dump(data_move_all, fp)\n",
    "        \n",
    "        with open(save_lat_data, \"wb\") as fp:   #Pickling\n",
    "            pickle.dump(tip_lat_all, fp)\n",
    "        \n",
    "        with open(save_tip_pos, \"wb\") as fp:   #Pickling\n",
    "            pickle.dump(tip_points, fp)\n",
    "\n",
    "    plt.xlim(x_nm-len_nm/2, x_nm+len_nm/2)\n",
    "    plt.ylim(y_nm+len_nm, y_nm)\n",
    "    "
   ]
  },
  {
   "cell_type": "code",
   "execution_count": null,
   "metadata": {},
   "outputs": [],
   "source": [
    "lat_mani_separate_mols(selected_points, target_points)"
   ]
  },
  {
   "cell_type": "code",
   "execution_count": null,
   "metadata": {},
   "outputs": [],
   "source": [
    "ref_x=147\n",
    "ref_y=141\n",
    "x_nm=-256.034\n",
    "y_nm=-34.382\n",
    "len_nm=10  # nm\n",
    "pixel=256\n",
    "init_len=0.5 # nm\n",
    "move_len=5 # nm\n",
    "# check_points=[[data['x'][i], data['y'][i]] for i in range(len(data))]\n",
    "# check_points_full=[[data['x'][i], data['y'][i]] for i in range(len(data))]\n",
    "check_points=[[selected_points[i][0], selected_points[i][1]] for i in range(len(selected_points))]\n",
    "check_points_full=[[selected_points[i][0], selected_points[i][1]] for i in range(len(selected_points))]\n",
    "scan_nm_small=10\n",
    "\n",
    "move_points=[]\n",
    "# plt.imshow(img, extent=[x_nm-len_nm/2, x_nm+len_nm/2, y_nm+len_nm, y_nm])\n",
    "\n",
    "data_move_all=[]\n",
    "tip_form_x=-326.117\n",
    "tip_form_y=-113.864\n",
    "tip_len=70\n",
    "tip_points=[]\n",
    "tip_points.append([tip_form_x, tip_form_y])\n",
    "tip_lat_all=[]\n",
    "current_time = datetime.datetime.now()\n",
    "save_before_img='img_before_move_%s_%s_%s_%s' % (current_time.month, current_time.day, current_time.hour, current_time.minute)\n",
    "save_after_img='img_after_move_%s_%s_%s_%s' % (current_time.month, current_time.day, current_time.hour, current_time.minute)\n",
    "if not os.path.exists(save_before_img):\n",
    "    os.mkdir(save_before_img)\n",
    "if not os.path.exists(save_after_img):\n",
    "    os.mkdir(save_after_img)\n",
    "save_mani_pkl='data_move_%s_%s_%s_%s.pkl' % (current_time.month, current_time.day, current_time.hour, current_time.minute)\n",
    "# for i in range(len(data)):\n",
    "#for i in range(1, len(selected_points)):\n",
    "for i in range(1, 7):\n",
    "    # x=x_nm-len_nm/2+len_nm/pixel*selected_points[i][0]\n",
    "    # y=y_nm+len_nm/pixel*selected_points[i][1]\n",
    "    # x_end=x_nm-len_nm/2+len_nm/pixel*target_points[i][2]\n",
    "    # y_end=y_nm+len_nm/pixel*target_points[i][3]\n",
    "    # plt.scatter([x], [y], s=1, c='r')\n",
    "\n",
    "    x=selected_points[i][0]\n",
    "    y=selected_points[i][1]\n",
    "    x_end=target_points[i][0]\n",
    "    y_end=target_points[i][1]\n",
    "\n",
    "    # check_points.remove([data['x'][i], data['y'][i]])\n",
    "    for epoch in range(3):\n",
    "        tip_start_x=x+init_len*(np.random.rand()*2-1)\n",
    "        tip_start_y=y+init_len*(np.random.rand()*2-1)\n",
    "\n",
    "        tip_end_x=x_end+init_len*(np.random.rand()*2-1)\n",
    "        tip_end_y=y_end+init_len*(np.random.rand()*2-1)\n",
    "\n",
    "        # tip_end_x=tip_start_x+move_len*(np.random.rand()*2-1)\n",
    "        # tip_end_y=tip_start_y+move_len*(np.random.rand()*2-1)\n",
    "        check_points_array=np.array(check_points)\n",
    "\n",
    "        # for find_epoch in range(50):\n",
    "        #     if np.sqrt((check_points_array[:, 0]-tip_end_x)**2+(check_points_array[:, 1]-tip_end_y)**2).min()<2:\n",
    "        #         tip_end_x=tip_start_x+init_len*(np.random.rand()*2-1)\n",
    "        #         tip_end_y=tip_start_y+init_len*(np.random.rand()*2-1)\n",
    "        #     else:\n",
    "        #         if find_epoch==49:\n",
    "        #             break\n",
    "        #         else:\n",
    "        #             pass    \n",
    "\n",
    "        # env.createc_controller.offset_nm = np.array([x, y-scan_nm_small/2])\n",
    "        env.createc_controller.offset_nm = np.array([x_nm, y_nm])\n",
    "        env.createc_controller.im_size_nm= scan_nm_small\n",
    "        scan_data=env.createc_controller.scan_image()\n",
    "        plt.imsave('%s/image_forward_%s_%s.png' % (save_before_img, i, epoch), scan_data[0])\n",
    "        plt.imsave('%s/image_backward_%s_%s.png' % (save_before_img, i, epoch), scan_data[1])\n",
    "        plt.imsave('%s/image_for_back_%s_%s.png' % (save_before_img, i, epoch), (scan_data[0]+scan_data[1])/2)\n",
    "\n",
    "        check_points.append([tip_end_x, tip_end_y])\n",
    "        check_points_full.append([tip_end_x, tip_end_y])\n",
    "        move_points.append([tip_end_x, tip_end_y])\n",
    "        plt.scatter([tip_start_x], [tip_start_y], s=1, c='r')\n",
    "        print(x, y-scan_nm_small/2, tip_start_x, tip_start_y, tip_end_x, tip_end_x)\n",
    "        # data_move=env.createc_controller.lat_manipulation(tip_start_x, tip_start_y, tip_end_x, tip_end_y, 32, 1000, np.array([x, y-scan_nm_small/2]), scan_nm_small)\n",
    "        data_move=env.createc_controller.lat_manipulation(tip_start_x, tip_start_y, tip_end_x, tip_end_y, 32, 1000, np.array([x_nm, y_nm]), scan_nm_small)\n",
    "        tip_lat_all.append([i, epoch, tip_start_x, tip_start_y, tip_end_x, tip_end_y])\n",
    "        data_move_all.append(data_move)\n",
    "        # env.createc_controller.offset_nm = np.array([x, y-scan_nm_small/2])\n",
    "        env.createc_controller.offset_nm = np.array([x_nm, y_nm])\n",
    "        env.createc_controller.im_size_nm= scan_nm_small\n",
    "        scan_data=env.createc_controller.scan_image()\n",
    "        plt.imsave('%s/image_forward_%s_%s.png' % (save_after_img, i, epoch), scan_data[0])\n",
    "        plt.imsave('%s/image_backward_%s_%s.png' % (save_after_img, i, epoch), scan_data[1])\n",
    "        plt.imsave('%s/image_for_back_%s_%s.png' % (save_after_img, i, epoch), (scan_data[0]+scan_data[1])/2)\n",
    "    \n",
    "\n",
    "       # if epoch==2:\n",
    "        for j in range(2):\n",
    "            tip_x=tip_form_x-tip_len/2+tip_len*np.random.rand()\n",
    "            tip_y=tip_form_y+tip_len*np.random.rand()\n",
    "            check_tip_points_array=np.array(tip_points)\n",
    "            while np.sqrt((check_tip_points_array[:, 0]-tip_x)**2+(check_tip_points_array[:, 1]-tip_y)**2).min()<2:\n",
    "                tip_x=tip_form_x+tip_len*np.random.rand()\n",
    "                tip_y=tip_form_y+tip_len*np.random.rand()\n",
    "            up_limit=35\n",
    "            down_limit=10\n",
    "            tip_z_approach=down_limit+np.random.rand()*(up_limit-down_limit)\n",
    "            env.createc_controller.tip_form(tip_z_approach, tip_x, tip_y, np.array([tip_form_x, tip_form_y]), tip_len)  \n",
    "            tip_points.append([tip_x, tip_y])\n",
    "            env.createc_controller.set_Z_approach(15)\n",
    "\n",
    "env.createc_controller.offset_nm = np.array([x_nm, y_nm])\n",
    "env.createc_controller.im_size_nm= scan_nm_small\n",
    "scan_data=env.createc_controller.scan_image()\n",
    "\n",
    "\n",
    "\n",
    "    # check_points.append([data['x'][i], data['y'][i]])  # restore all points in data plus tip_end_points\n",
    "\n",
    "with open(save_mani_pkl, \"wb\") as fp:   #Pickling\n",
    "    pickle.dump(data_move_all, fp)\n",
    "plt.xlim(x_nm-len_nm/2, x_nm+len_nm/2)\n",
    "plt.ylim(y_nm, y_nm+len_nm)"
   ]
  },
  {
   "cell_type": "code",
   "execution_count": null,
   "metadata": {},
   "outputs": [],
   "source": [
    "env.createc_controller.offset_nm = np.array([x_nm, y_nm])\n",
    "env.createc_controller.im_size_nm= scan_nm_small\n",
    "scan_data=env.createc_controller.scan_image()"
   ]
  },
  {
   "cell_type": "code",
   "execution_count": null,
   "metadata": {},
   "outputs": [],
   "source": [
    "with open(save_mani_pkl, \"wb\") as fp:   #Pickling\n",
    "    pickle.dump(data_move_all, fp)\n",
    "plt.xlim(x_nm-len_nm/2, x_nm+len_nm/2)\n",
    "plt.ylim(y_nm, y_nm+len_nm)"
   ]
  },
  {
   "cell_type": "code",
   "execution_count": null,
   "metadata": {},
   "outputs": [],
   "source": [
    "img=cv2.imread('diss_10nm.jpeg') \n",
    "img[img<170]=0\n",
    "laplacian = cv2.Laplacian(img,cv2.CV_64F)\n",
    "sobelx = cv2.Sobel(img,cv2.CV_64F,1,0,ksize=5)\n",
    "sobely = cv2.Sobel(img,cv2.CV_64F,0,1,ksize=5)\n",
    "plt.subplot(2,2,1),plt.imshow(img,cmap = 'gray')\n",
    "plt.title('Original'), plt.xticks([]), plt.yticks([])\n",
    "plt.subplot(2,2,2),plt.imshow(laplacian,cmap = 'gray')\n",
    "plt.title('Laplacian'), plt.xticks([]), plt.yticks([])\n",
    "plt.subplot(2,2,3),plt.imshow(sobelx,cmap = 'gray')\n",
    "plt.title('Sobel X'), plt.xticks([]), plt.yticks([])\n",
    "plt.subplot(2,2,4),plt.imshow(sobely,cmap = 'gray')\n",
    "plt.title('Sobel Y'), plt.xticks([]), plt.yticks([])"
   ]
  },
  {
   "cell_type": "code",
   "execution_count": null,
   "metadata": {},
   "outputs": [],
   "source": [
    "env.createc_controller.get_offset_nm()"
   ]
  },
  {
   "cell_type": "code",
   "execution_count": null,
   "metadata": {},
   "outputs": [],
   "source": [
    "0.5 angstrom   # if tip changes"
   ]
  },
  {
   "cell_type": "code",
   "execution_count": null,
   "metadata": {},
   "outputs": [],
   "source": [
    "# img_10nm[img_10nm<170]=0\n",
    "\n",
    "plt.imshow(img_10nm*10)"
   ]
  },
  {
   "cell_type": "code",
   "execution_count": null,
   "metadata": {},
   "outputs": [],
   "source": [
    "img_10nm[img_10nm<180]=0"
   ]
  },
  {
   "cell_type": "code",
   "execution_count": null,
   "metadata": {},
   "outputs": [],
   "source": [
    "def show_image_treatment(img):\n",
    "    sobelx8u = cv2.Sobel(img,cv2.CV_8U,1,0,ksize=5)\n",
    "    # Output dtype = cv.CV_64F. Then take its absolute and convert to cv.CV_8U\n",
    "    sobelx64f = cv2.Sobel(img,cv2.CV_64F,1,0,ksize=5)\n",
    "    abs_sobel64f = np.absolute(sobelx64f)\n",
    "    sobel_8u = np.uint8(abs_sobel64f)\n",
    "    plt.subplot(1,3,1),plt.imshow(img,cmap = 'gray')\n",
    "    plt.title('Original'), plt.xticks([]), plt.yticks([])\n",
    "    plt.subplot(1,3,2),plt.imshow(sobelx8u,cmap = 'gray')\n",
    "    plt.title('Sobel CV_8U'), plt.xticks([]), plt.yticks([])\n",
    "    plt.subplot(1,3,3),plt.imshow(sobel_8u,cmap = 'gray')\n",
    "    plt.title('Sobel abs(CV_64F)'), plt.xticks([]), plt.yticks([])"
   ]
  },
  {
   "cell_type": "code",
   "execution_count": null,
   "metadata": {},
   "outputs": [],
   "source": [
    "show_image_treatment(img_10nm)"
   ]
  },
  {
   "cell_type": "code",
   "execution_count": null,
   "metadata": {},
   "outputs": [],
   "source": [
    "from tqdm import tqdm"
   ]
  },
  {
   "cell_type": "code",
   "execution_count": null,
   "metadata": {},
   "outputs": [],
   "source": [
    "detect_mols=np.where(img_10nm>180)\n",
    "img_10nm[img_10nm<190]=0"
   ]
  },
  {
   "cell_type": "code",
   "execution_count": null,
   "metadata": {},
   "outputs": [],
   "source": [
    "plt.imshow(img_10nm)"
   ]
  },
  {
   "cell_type": "code",
   "execution_count": null,
   "metadata": {},
   "outputs": [],
   "source": [
    "len(detect_mols[0])"
   ]
  },
  {
   "cell_type": "code",
   "execution_count": null,
   "metadata": {},
   "outputs": [],
   "source": [
    "detect_mols=np.where(img_10nm>180)\n",
    "for i in tqdm(range(len(detect_mols[0]))):\n",
    "    # plt.imshow(edges, extent=[x_nm-250/2, x_nm+250/2, y_nm+250, y_nm])\n",
    "    plt.imshow(img_10nm, extent=[x_nm-10/2, x_nm+10/2, y_nm+10, y_nm])\n",
    "    plt.scatter(x_nm-10/2+detect_mols[1][i]*10/128, y_nm+detect_mols[0][i]*10/128, s=1, c='r')"
   ]
  },
  {
   "cell_type": "code",
   "execution_count": null,
   "metadata": {},
   "outputs": [],
   "source": []
  },
  {
   "cell_type": "code",
   "execution_count": null,
   "metadata": {},
   "outputs": [],
   "source": [
    "detect_mols=np.where(img_10nm>180)\n",
    "data_blob ={'x': detect_mols[1], 'y': detect_mols[0]}\n",
    "data_blob=pd.DataFrame(data_blob)\n",
    "data_blob=data_blob.drop_duplicates(ignore_index=True)"
   ]
  },
  {
   "cell_type": "code",
   "execution_count": null,
   "metadata": {},
   "outputs": [],
   "source": [
    "plt.imshow(img_10nm)"
   ]
  },
  {
   "cell_type": "code",
   "execution_count": null,
   "metadata": {},
   "outputs": [],
   "source": [
    "x_nm=-76.106\n",
    "y_nm=-323.461\n",
    "len_nm=10\n",
    "pixel=256\n",
    "selected_points=[]\n",
    "selected_points.append([data_blob.x[0], data_blob.y[0]])\n",
    "plt.scatter(x_nm-len_nm/2+len_nm/pixel*data_blob.x[0], y_nm+len_nm/pixel*data_blob.y[0])\n",
    "# plt.scatter(data.x, data.y)\n",
    "for i in tqdm(range(len(data_blob))):\n",
    "    selected_points_array=np.array(selected_points)\n",
    "    if np.sqrt((data_blob.x[i]-selected_points_array[:, 0])**2+(data_blob.y[i]-selected_points_array[:, 1])**2).min()*len_nm/pixel>1:\n",
    "        selected_points.append([data_blob.x[i], data_blob.y[i]])\n",
    "        plt.scatter(x_nm-len_nm/2+len_nm/pixel*data_blob.x[i], y_nm+len_nm/pixel*data_blob.y[i])\n",
    "\n",
    "xv, yv = np.meshgrid(np.linspace(x_nm-len_nm/2, x_nm+len_nm/2, 10), np.linspace(y_nm, y_nm+len_nm, 10))        \n",
    "# plt.imshow(img2, extent=[x_nm-len_nm/2, x_nm+len_nm/2, y_nm+len_nm, y_nm])\n",
    "plt.scatter(xv, yv, c='r', s=1)\n",
    "\n",
    "plt.imshow(img_10nm, extent=[x_nm-len_nm/2, x_nm+len_nm/2, y_nm+len_nm, y_nm])\n",
    "plt.xlim(x_nm-len_nm/2, x_nm+len_nm/2)\n",
    "plt.ylim(y_nm+len_nm, y_nm)"
   ]
  },
  {
   "cell_type": "code",
   "execution_count": null,
   "metadata": {},
   "outputs": [],
   "source": [
    "plt.imshow(img_10nm)"
   ]
  },
  {
   "cell_type": "code",
   "execution_count": null,
   "metadata": {},
   "outputs": [],
   "source": [
    "detect_mols=np.where(img_10nm>180)\n",
    "for i in range(len(detect_mols[0])):\n",
    "    # plt.imshow(edges, extent=[x_nm-250/2, x_nm+250/2, y_nm+250, y_nm])\n",
    "    plt.imshow(img_10nm, extent=[x_nm-10/2, x_nm+10/2, y_nm+10, y_nm])\n",
    "    plt.scatter(x_nm-10/2+detect_mols[1][i]*10/128, y_nm+detect_mols[0][i]*10/128, s=1, c='r')"
   ]
  },
  {
   "cell_type": "code",
   "execution_count": null,
   "metadata": {},
   "outputs": [],
   "source": [
    "plt.imshow(img_10nm)"
   ]
  },
  {
   "cell_type": "code",
   "execution_count": null,
   "metadata": {},
   "outputs": [],
   "source": [
    "img=cv2.imread('large_image.png') \n",
    "edges=image_detect_edges(img)"
   ]
  },
  {
   "cell_type": "code",
   "execution_count": null,
   "metadata": {},
   "outputs": [],
   "source": [
    "img.shape"
   ]
  },
  {
   "cell_type": "code",
   "execution_count": null,
   "metadata": {},
   "outputs": [],
   "source": [
    "x_nm"
   ]
  },
  {
   "cell_type": "code",
   "execution_count": null,
   "metadata": {},
   "outputs": [],
   "source": [
    "edges_points=np.where(edges>0)\n",
    "for i in range(len(edges_points[0])):\n",
    "    # plt.imshow(edges, extent=[x_nm-250/2, x_nm+250/2, y_nm+250, y_nm])\n",
    "    plt.imshow(img, extent=[x_nm-250/2, x_nm+250/2, y_nm+250, y_nm])\n",
    "    plt.scatter(x_nm-250/2+edges_points[1][i]*250/128, y_nm+edges_points[0][i]*250/128, s=1, c='r')"
   ]
  },
  {
   "cell_type": "code",
   "execution_count": null,
   "metadata": {},
   "outputs": [],
   "source": []
  },
  {
   "cell_type": "code",
   "execution_count": null,
   "metadata": {},
   "outputs": [],
   "source": [
    "edges_points"
   ]
  },
  {
   "cell_type": "code",
   "execution_count": null,
   "metadata": {},
   "outputs": [],
   "source": [
    "\n",
    "data ={'x': edges_points[1], 'y': edges_points[0]}\n",
    "data=pd.DataFrame(data)\n",
    "data=data.drop_duplicates(ignore_index=True)\n",
    "# data.loc[:, 'dist']=np.sqrt((data.x-147)**2+(data.y-141)**2)\n",
    "# data=data.sort_values(by='dist', ascending=False, ignore_index=True)"
   ]
  },
  {
   "cell_type": "code",
   "execution_count": null,
   "metadata": {},
   "outputs": [],
   "source": [
    "scan_1=env.createc_controller.stm.scanstart()"
   ]
  },
  {
   "cell_type": "code",
   "execution_count": null,
   "metadata": {},
   "outputs": [],
   "source": [
    "def select_points(img, edges=False, dist_limit=1, x_nm=None, y_nm=None, len_nm=None, pixel=256, dist_thres=1):\n",
    "    '''detect edges for large image (such as 250 nm) and dectect blobs for small image (such as 10 nm)''' \n",
    "    if (x_nm is None) or (y_nm is None):\n",
    "        x_nm, y_nm = env.createc_controller.get_offset_nm()\n",
    "    if len_nm is None:\n",
    "        len_nm = env.createc_controller.im_size_nm\n",
    "\n",
    "    plt.imshow(img, extent=[x_nm-len_nm/2, x_nm+len_nm/2, y_nm+len_nm, y_nm])\n",
    "    \n",
    "    if edges:\n",
    "        edges_img=image_detect_edges(img)\n",
    "        detect_mols=np.where(edges_img>0)\n",
    "    else:\n",
    "        detect_mols=np.where(img>180)\n",
    "\n",
    "    \n",
    "    data_mols ={'x': detect_mols[1], 'y': detect_mols[0]}\n",
    "    data_mols=pd.DataFrame(data_mols)\n",
    "    data_mols=data_mols.drop_duplicates(ignore_index=True)\n",
    "\n",
    "    selected_points=[]\n",
    "    selected_points.append([data_mols.x[0], data_mols.y[0]])\n",
    "    plt.scatter(x_nm-len_nm/2+len_nm/pixel*data_mols.x[0], y_nm+len_nm/pixel*data_mols.y[0])\n",
    "    for i in tqdm(range(len(data_mols))):\n",
    "        selected_points_array=np.array(selected_points)\n",
    "        if np.sqrt((data_mols.x[i]-selected_points_array[:, 0])**2+(data_mols.y[i]-selected_points_array[:, 1])**2).min()*len_nm/pixel>dist_limit:\n",
    "            selected_points.append([data_mols.x[i], data_mols.y[i]])\n",
    "            plt.scatter(x_nm-len_nm/2+len_nm/pixel*data_mols.x[i], y_nm+len_nm/pixel*data_mols.y[i])\n",
    "\n",
    "\n",
    "    plt.xlim(x_nm-len_nm/2, x_nm+len_nm/2)\n",
    "    plt.ylim(y_nm+len_nm, y_nm)\n",
    "    \n",
    "    return selected_points"
   ]
  },
  {
   "cell_type": "code",
   "execution_count": null,
   "metadata": {},
   "outputs": [],
   "source": [
    "img=cv2.imread('img_50_new.jpeg')"
   ]
  },
  {
   "cell_type": "code",
   "execution_count": null,
   "metadata": {},
   "outputs": [],
   "source": [
    "img.shape"
   ]
  },
  {
   "cell_type": "code",
   "execution_count": null,
   "metadata": {},
   "outputs": [],
   "source": [
    "plt.imshow(img)"
   ]
  },
  {
   "cell_type": "code",
   "execution_count": null,
   "metadata": {},
   "outputs": [],
   "source": [
    "img.shape"
   ]
  },
  {
   "cell_type": "code",
   "execution_count": null,
   "metadata": {},
   "outputs": [],
   "source": [
    "plt.subplot(1,2,1)\n",
    "select_points(img, x_nm=5.17, y_nm=-174.690, len_nm=256, dist_limit=10, edges=True, pixel=256)\n",
    "# plt.subplot(1,2,2)\n",
    "# select_points(img_10nm)"
   ]
  },
  {
   "cell_type": "code",
   "execution_count": null,
   "metadata": {},
   "outputs": [],
   "source": [
    "select_points(img_10nm)"
   ]
  },
  {
   "cell_type": "code",
   "execution_count": null,
   "metadata": {},
   "outputs": [],
   "source": [
    "x_nm=-76.106\n",
    "y_nm=-323.461\n",
    "len_nm=250\n",
    "pixel=128\n",
    "selected_points=[]\n",
    "selected_points.append([data.x[0], data.y[0]])\n",
    "# plt.scatter(data.x, data.y)\n",
    "for i in range(len(data)):\n",
    "    selected_points_array=np.array(selected_points)\n",
    "    if np.sqrt((data.x[i]-selected_points_array[:, 0])**2+(data.y[i]-selected_points_array[:, 1])**2).min()*len_nm/pixel>5:\n",
    "        selected_points.append([data.x[i], data.y[i]])\n",
    "        plt.scatter(x_nm-len_nm/2+len_nm/pixel*data.x[i], y_nm+len_nm/pixel*data.y[i])\n",
    "        \n",
    "# plt.imshow(img2, extent=[x_nm-len_nm/2, x_nm+len_nm/2, y_nm+len_nm, y_nm])\n",
    "# plt.scatter(xv, yv, c='r', s=1)\n",
    "\n",
    "plt.imshow(img, extent=[x_nm-250/2, x_nm+250/2, y_nm+250, y_nm])\n",
    "plt.xlim(x_nm-len_nm/2, x_nm+len_nm/2)\n",
    "plt.ylim(y_nm+len_nm, y_nm)"
   ]
  },
  {
   "cell_type": "code",
   "execution_count": null,
   "metadata": {},
   "outputs": [],
   "source": [
    "x_nm-len_nm/2+len_nm/pixel*data.x[0]"
   ]
  },
  {
   "cell_type": "code",
   "execution_count": null,
   "metadata": {},
   "outputs": [],
   "source": [
    "y_nm+len_nm/pixel*data.y[0]"
   ]
  },
  {
   "cell_type": "code",
   "execution_count": null,
   "metadata": {},
   "outputs": [],
   "source": [
    "env.createc_controller.set_xy_nm([170, -100])\n",
    "env.createc_controller.stm.scanstart()"
   ]
  },
  {
   "cell_type": "code",
   "execution_count": null,
   "metadata": {},
   "outputs": [],
   "source": [
    "ref_x=147\n",
    "ref_y=141\n",
    "x_nm=-59.699\n",
    "y_nm=-151.536\n",
    "len_nm=50  # nm\n",
    "init_len=1 # nm\n",
    "move_len=5 # nm\n",
    "check_points=[[data['x'][i], data['y'][i]] for i in range(len(data))]\n",
    "check_points_full=[[data['x'][i], data['y'][i]] for i in range(len(data))]\n",
    "scan_nm_small=10\n",
    "\n",
    "move_points=[]\n",
    "plt.imshow(img, extent=[x_nm-len_nm/2, x_nm+len_nm/2, y_nm+len_nm, y_nm])\n",
    "plt.scatter(x_nm-len_nm/2+len_nm/256*data['x'], y_nm+len_nm/256*data['y'], s=1, c='b')\n",
    "data_move_all=[]\n",
    "tip_form_x=133\n",
    "tip_form_y=-117\n",
    "tip_len=120\n",
    "tip_points=[]\n",
    "tip_points.append([tip_form_x, tip_form_y])\n",
    "tip_lat_all=[]\n",
    "# for i in range(len(data)):\n",
    "for i in range(13, len(data), 5):\n",
    "# for i in range(3):\n",
    "    x=x_nm-len_nm/2+len_nm/256*data['x'][i]\n",
    "    y=y_nm+len_nm/256*data['y'][i]\n",
    "    plt.scatter([x], [y], s=1, c='r')\n",
    "\n",
    "    check_points.remove([data['x'][i], data['y'][i]])\n",
    "    for epoch in range(5):\n",
    "        tip_start_x=x+init_len*(np.random.rand()*2-1)\n",
    "        tip_start_y=y+init_len*(np.random.rand()*2-1)\n",
    "        tip_end_x=tip_start_x+move_len*(np.random.rand()*2-1)\n",
    "        tip_end_y=tip_start_y+move_len*(np.random.rand()*2-1)\n",
    "        check_points_array=np.array(check_points)\n",
    "\n",
    "        for find_epoch in range(50):\n",
    "            if np.sqrt((check_points_array[:, 0]-tip_end_x)**2+(check_points_array[:, 1]-tip_end_y)**2).min()<2 or np.sqrt((tip_start_x-tip_end_x)**2-(tip_start_y-tip_end_y)**2)<1.5  or np.sqrt((x-tip_end_x)**2+(y-tip_end_y)**2)>scan_nm_small/2:\n",
    "                tip_end_x=tip_start_x+move_len*(np.random.rand()*2-1)\n",
    "                tip_end_y=tip_start_y+move_len*(np.random.rand()*2-1)\n",
    "            else:\n",
    "                if find_epoch==49:\n",
    "                    break\n",
    "                else:\n",
    "                    pass    \n",
    "\n",
    "        env.createc_controller.offset_nm = np.array([x, y-scan_nm_small/2])\n",
    "        env.createc_controller.im_size_nm= scan_nm_small\n",
    "        scan_data=env.createc_controller.scan_image()\n",
    "        plt.imsave('images_move_before/image_forward_%s_%s.png' % (i, epoch), scan_data[0])\n",
    "        plt.imsave('images_move_before/image_backward_%s_%s.png' % (i, epoch), scan_data[1])\n",
    "        plt.imsave('images_move_before/image_for_back_%s_%s.png' % (i, epoch), (scan_data[0]+scan_data[1])/2)\n",
    "\n",
    "        check_points.append([tip_end_x, tip_end_y])\n",
    "        check_points_full.append([tip_end_x, tip_end_y])\n",
    "        move_points.append([tip_end_x, tip_end_y])\n",
    "        plt.scatter([tip_start_x], [tip_start_y], s=1, c='r')\n",
    "        print(x, y-scan_nm_small/2, tip_start_x, tip_start_y, tip_end_x, tip_end_x)\n",
    "        data_move=env.createc_controller.lat_manipulation(tip_start_x, tip_start_y, tip_end_x, tip_end_y, 32, 1000, np.array([x, y-scan_nm_small/2]), scan_nm_small)\n",
    "        tip_lat_all.append([i, epoch, tip_start_x, tip_start_y, tip_end_x, tip_end_y])\n",
    "        data_move_all.append(data_move)\n",
    "        env.createc_controller.offset_nm = np.array([x, y-scan_nm_small/2])\n",
    "        env.createc_controller.im_size_nm= scan_nm_small\n",
    "        scan_data=env.createc_controller.scan_image()\n",
    "        plt.imsave('images_move_after/image_forward_%s_%s.png' % (i, epoch), scan_data[0])\n",
    "        plt.imsave('images_move_after/image_backward_%s_%s.png' % (i, epoch), scan_data[1])\n",
    "        plt.imsave('images_move_after/image_for_back_%s_%s.png' % (i, epoch), (scan_data[0]+scan_data[1])/2)\n",
    "    \n",
    "\n",
    "        if epoch==2:\n",
    "            env.createc_controller.set_xy_nm([tip_form_x, tip_form_y-120/2])\n",
    "            for j in range(2):\n",
    "                tip_x=tip_form_x+120*np.random.rand()\n",
    "                tip_y=tip_form_y+120*np.random.rand()\n",
    "                check_tip_points_array=np.array(tip_points)\n",
    "                while np.sqrt((check_tip_points_array[:, 0]-tip_x)**2+(check_tip_points_array[:, 1]-tip_y)**2).min()<3.5:\n",
    "                    tip_x=tip_form_x+120*np.random.rand()\n",
    "                    tip_y=tip_form_y+120*np.random.rand()\n",
    "                up_limit=35\n",
    "                down_limit=10\n",
    "                tip_z_approach=down_limit+np.random.rand()*(up_limit-down_limit)\n",
    "                env.createc_controller.tip_form(tip_z_approach, tip_x, tip_y)  \n",
    "                tip_points.append([tip_x, tip_y])\n",
    "\n",
    "    check_points.append([data['x'][i], data['y'][i]])  # restore all points in data plus tip_end_points\n",
    "\n",
    "with open(\"data_move_1004_14.pkl\", \"wb\") as fp:   #Pickling\n",
    "    pickle.dump(data_move_all, fp)\n",
    "plt.xlim(x_nm-len_nm/2, x_nm+len_nm/2)\n",
    "plt.ylim(y_nm, y_nm+len_nm)"
   ]
  },
  {
   "cell_type": "markdown",
   "metadata": {},
   "source": [
    "### Create a sac_agent object"
   ]
  },
  {
   "cell_type": "code",
   "execution_count": null,
   "metadata": {},
   "outputs": [],
   "source": [
    "#TODO\n",
    "batch_size= 64 #Set minibatch size\n",
    "LEARNING_RATE = 0.0003 #Set learning rate\n",
    "\n",
    "#Set the action space range\n",
    "ACTION_SPACE = namedtuple('ACTION_SPACE', ['high', 'low'])\n",
    "action_space = ACTION_SPACE(high = torch.tensor([1,1,1,1]), low = torch.tensor([-1,-1,-1,1/2]))\n",
    "\n",
    "#Initialize the soft actor-critic agent\n",
    "alpha = 1.0\n",
    "agent = sac_agent(num_inputs = 4, num_actions = 4, action_space = action_space, device=device, hidden_size=256, lr=LEARNING_RATE,\n",
    "                 gamma=0.9, tau=0.005, alpha=alpha)"
   ]
  },
  {
   "cell_type": "markdown",
   "metadata": {},
   "source": [
    "### Create a HerReplayMemory object\n",
    "Here we use the hindsight experience replay with the 'future' strategy to sample goals"
   ]
  },
  {
   "cell_type": "code",
   "execution_count": null,
   "metadata": {},
   "outputs": [],
   "source": [
    "#TODO\n",
    "replay_size=1000000 #Set memory size\n",
    "\n",
    "memory = HerReplayMemory(replay_size, env, strategy = 'future')"
   ]
  },
  {
   "cell_type": "code",
   "execution_count": null,
   "metadata": {},
   "outputs": [],
   "source": [
    "memory.n_sampled_goal"
   ]
  },
  {
   "cell_type": "markdown",
   "metadata": {},
   "source": [
    "### Create a Episode_Memory object\n",
    "The episode memory class is used to store all the relavant information in each training episode, including the STM images, state, action, reward, etc."
   ]
  },
  {
   "cell_type": "code",
   "execution_count": null,
   "metadata": {},
   "outputs": [],
   "source": [
    "episode_memory = Episode_Memory()\n",
    "#TODO\n",
    "#Set the folder name to store training data and neural network weight\n",
    "folder_name =  'C:/Users/wun2/github/test_nian'\n",
    "#folder_name =  'C:/LocalUserData/User-data/phys-asp-lab/nian_auto_spm/test_nian'"
   ]
  },
  {
   "cell_type": "markdown",
   "metadata": {},
   "source": [
    "### Set the hyperparameters for Emphasize Recent Experience replay"
   ]
  },
  {
   "cell_type": "code",
   "execution_count": null,
   "metadata": {},
   "outputs": [],
   "source": [
    "c_k_min = 500\n",
    "# eta = 0.994\n",
    "max_ep_len = max_len"
   ]
  },
  {
   "cell_type": "markdown",
   "metadata": {},
   "source": [
    "### Create empty lists for logging performances"
   ]
  },
  {
   "cell_type": "code",
   "execution_count": null,
   "metadata": {},
   "outputs": [],
   "source": [
    "episode_rewards, alphas, precisions, episode_lengths = [], [], [], []\n",
    "avg_episode_rewards, avg_alphas, avg_precisions, avg_episode_lengths = [], [], [], []"
   ]
  },
  {
   "cell_type": "markdown",
   "metadata": {},
   "source": [
    "# Define the training function"
   ]
  },
  {
   "cell_type": "code",
   "execution_count": null,
   "metadata": {},
   "outputs": [],
   "source": [
    "def sac_train(max_steps = max_len, num_episodes = 50, episode_start = 0):\n",
    "    \"\"\"\n",
    "    Collect training data and train the RL agent\n",
    "\n",
    "    Parameters\n",
    "    ----------\n",
    "    max_steps: int\n",
    "            maximum steps in an episode\n",
    "            \n",
    "    num_episodes: int\n",
    "            Train for this many episodes\n",
    "    \n",
    "    episode_start: int\n",
    "            Index to use for the starting episode\n",
    "\n",
    "    Returns\n",
    "    -------\n",
    "    None : None\n",
    "    \"\"\"\n",
    "    for i_episode in range(episode_start,episode_start+num_episodes):\n",
    "        print('Episode:', i_episode)\n",
    "        episode_reward, episode_steps = 0, 0\n",
    "        done = False\n",
    "        state, info = env.reset(update_conv_net=False)\n",
    "        show_reset(env.img_info, env.atom_start_absolute_nm, env.destination_absolute_nm,\n",
    "                   env.template_nm, env.template_wh)\n",
    "        episode_memory.update_memory_reset(env.img_info, i_episode, info)\n",
    "        \n",
    "        for step in range(max_steps):\n",
    "            action = agent.select_action(state)\n",
    "            old_atom_nm = env.atom_absolute_nm\n",
    "            next_state, reward, done, info = env.step(action)\n",
    "            episode_steps+=1\n",
    "            episode_reward+=reward\n",
    "            mask = float(not done)\n",
    "            memory.push(state,action,reward,next_state,mask)\n",
    "            episode_memory.update_memory_step(state, action, next_state, reward, done, info)\n",
    "            show_step(env.img_info, info['start_nm']+old_atom_nm, info['end_nm']+old_atom_nm,\n",
    "                        env.atom_absolute_nm, env.atom_start_absolute_nm, \n",
    "                        env.destination_absolute_nm, action[4]*env.max_mvolt, \n",
    "                        action[5]*env.max_pcurrent_to_mvolt_ratio*action[4]*env.max_mvolt, \n",
    "                        env.template_nm, env.template_wh)\n",
    "            print('step:', step,'reward', reward, 'precision:', env.dist_destination)\n",
    "            if done:\n",
    "                episode_memory.update_memory_done(env.img_info, env.atom_absolute_nm, env.atom_relative_nm)\n",
    "                episode_memory.save_memory(folder_name)\n",
    "                print('Episode reward:', episode_reward)\n",
    "                break\n",
    "            else:                \n",
    "                state=next_state\n",
    "             \n",
    "        if (len(memory)>batch_size):\n",
    "            episode_K = int(episode_steps)\n",
    "            for k in range(episode_K):\n",
    "                c_k = max(int(memory.__len__()*eta**((k)*(1000/episode_K))), 500)\n",
    "                agent.update_parameters(memory, batch_size, c_k)\n",
    "        \n",
    "        episode_rewards.append(episode_reward)\n",
    "        alphas.append(agent.alpha.item())\n",
    "        precisions.append(env.dist_destination)\n",
    "        episode_lengths.append(episode_steps)\n",
    "        avg_episode_rewards.append(np.mean(episode_rewards[-min(100,len(episode_rewards)):]))\n",
    "        avg_alphas.append(np.mean(alphas[-min(100, len(alphas)):]))\n",
    "        avg_precisions.append(np.mean(precisions[-min(100, len(precisions)):]))\n",
    "        avg_episode_lengths.append(np.mean(episode_lengths[-min(100, len(episode_lengths)):]))\n",
    "        \n",
    "        if (i_episode+1)%2==0:\n",
    "            plot_graph(episode_rewards, precisions, alphas, episode_lengths,\n",
    "                      avg_episode_rewards, avg_alphas, avg_precisions, avg_episode_lengths)\n",
    "            \n",
    "        if (i_episode)%20 == 0:\n",
    "            torch.save(agent.critic.state_dict(), '{}/_critic_{}.pth'.format(folder_name,i_episode))\n",
    "            torch.save(agent.policy.state_dict(), '{}/_policy_{}.pth'.format(folder_name,i_episode))\n",
    "            torch.save(agent.alpha, '{}/_alpha_{}.pth'.format(folder_name,i_episode))\n",
    "            torch.save(env.atom_move_detector.conv.state_dict(), '{}/_atom_move_detector_conv_{}.pth'.format(folder_name))"
   ]
  },
  {
   "cell_type": "code",
   "execution_count": null,
   "metadata": {},
   "outputs": [],
   "source": [
    "max_steps = 5\n",
    "num_episodes = 50\n",
    "episode_start = 0"
   ]
  },
  {
   "cell_type": "code",
   "execution_count": null,
   "metadata": {},
   "outputs": [],
   "source": [
    "done_dect_atom=False\n"
   ]
  },
  {
   "cell_type": "code",
   "execution_count": null,
   "metadata": {},
   "outputs": [],
   "source": [
    "# find a section to condition tip\n",
    "start_crash_hole=0\n",
    "approach_z=2\n",
    "\n",
    "def tip_cond_area(center_x=0, center_y=0, approach_area_length=800, cond_area_length=200, margin=20):\n",
    "    cond_area_center_x, cond_area_center_y=center_x-approach_area_length+cond_area_length+margin, center_y-approach_area_length+cond_area_center_y+margin\n",
    "    return cond_area_center_x, cond_area_center_y, cond_area_length\n",
    "\n",
    "env.default_max_radius_cellsize(cellsize=20, max_radius=200)\n",
    "points=env.computeLocationIDs()\n",
    "cond_area_center_x, cond_area_center_y, cond_area_length=tip_cond_area()\n",
    "\n",
    "env.createc_controller.ramp_bias_mV(-1.2)\n",
    "env.createc_controller.tip_form(approach_z, cond_area_center_x+points[start_crash_hole][0]*cellsize,cond_area_center_y+points[start_crash_hole][1]*cellsize)\n",
    "print(env.createc_controller.im_size_nm)\n",
    "start_crash_hole=start_crash_hole"
   ]
  },
  {
   "cell_type": "code",
   "execution_count": null,
   "metadata": {},
   "outputs": [],
   "source": [
    "start_x = 0\n",
    "start_y = 0\n",
    "tip_x = 0\n",
    "tip_y = 0\n",
    "check_similarity=None\n",
    "check_similarity.append([tip_x, tip_y])\n",
    "radius = 35\n",
    "upper_limit_move=400\n",
    "env.max_radius=150\n",
    "\n",
    "image_forward = info['img_info']['img_forward']\n",
    "image_backward =info['img_info']['img_backward']\n",
    "\n",
    "\n",
    "# dectect atoms\n",
    "isAtom = False\n",
    "\n",
    "# debris\n",
    "debris_thres = 6\n",
    "DebresCounter = 0\n",
    "noDebris = False\n",
    "\n",
    "# Crash dectected\n",
    "crash_thres = 1e-25 \n",
    "approach_z = 4\n",
    "noCrash = False\n",
    "\n",
    "while not isAtom or not noDebris or not noCrash:\n",
    "    \n",
    "    # detect atoms\n",
    "    atom_forward = blob_detection(info[img_forward])[0]\n",
    "\n",
    "    if len(atom_forward)>0:\n",
    "        isAtom = True\n",
    "\n",
    "    # detect debris\n",
    "    noDebris =  ((np.max(image_forward) - np.min(image_forward)) < debris_thres) \n",
    "    \n",
    "    # dectect crash\n",
    "    noCrash = (np.max(img_forward)-np.min(img_forward) )< crash_thres and (np.mean(img_forward)>0)\n",
    "    \n",
    "    if isAtom and noDebris and noCrash:\n",
    "        continue                \n",
    "    else:\n",
    "        tip_x, tip_y=env.GetNextGoodClosest(tip_x, tip_y, initial_x=start_x, initial_y=start_y, forbiden_radius=radius, upper_limit_move=upper_limit_move,approach_limit=[-180, 180, -180, 180],check_similarity=check_similarity) \n",
    "        if tip_x==None:\n",
    "            tip_x, tip_y=check_similarity[-1][0], check_similarity[-1][1]\n",
    "            image=env.set_newtip_pos(tip_x, tip_y)\n",
    "            image_forward, image_backward =image[0], image[1]\n",
    "            radius=radius*2\n",
    "            env.max_radius=env.max_radius*2\n",
    "            upper_limit_move=upper_limit_move+20000\n",
    "        else:\n",
    "            radius=35\n",
    "            upper_limit_move=400\n",
    "            env.max_radius=150\n",
    "                \n",
    "    \n",
    "            \n",
    "            \n",
    "    check_similarity.append([tip_x, tip_y])        \n",
    "    if radius>280:\n",
    "        print('there is no section satisfying the demand within radius of 280 nm')\n",
    "        break\n",
    "\n",
    "    \n",
    "\n",
    "        \n",
    "        \n",
    "    \n",
    "    \n",
    "\n"
   ]
  },
  {
   "cell_type": "markdown",
   "metadata": {},
   "source": [
    "# tip condition section"
   ]
  },
  {
   "cell_type": "code",
   "execution_count": null,
   "metadata": {},
   "outputs": [],
   "source": [
    "center_x=0\n",
    "center_y=0\n",
    "approach_area_length=800\n",
    "def tip_cond_area(center_x=0, center_y=0, approach_area_length=800, cond_area_length=200, margin=20):\n",
    "    cond_area_center_x, cond_area_center_y=center_x-approach_area_length+cond_area_length+margin, center_y-approach_area_length+cond_area_center_y+margin\n",
    "    return cond_area_center_x, cond_area_center_y, cond_area_length\n",
    "\n",
    "\n",
    "    \n",
    "    "
   ]
  },
  {
   "cell_type": "markdown",
   "metadata": {},
   "source": [
    "# Condition probe"
   ]
  },
  {
   "cell_type": "code",
   "execution_count": null,
   "metadata": {},
   "outputs": [],
   "source": [
    "env.createc_controller.stm.setparam('TipForm_Volt', -3) # Set the bias voltage for the atom manipulation(unit V)\n",
    "\n",
    "env.createc_controller.stm.setparam('TipForm_Z', 0.0) # Set the z position for the atom manipulation(unit angstrom)\n",
    "\n",
    "env.createc_controller.stm.setparam('Tip_Delay', 0.4915) # Set the delay time for the atom manipulation(unit s)\n",
    "env.createc_controller.stm.setparam('Tip_Latddx', 833) # Set the lateral ddx for the atom manipulation(unit angstrom/ms^2)\n",
    "env.createc_controller.stm.setparam('Tip_LatDelay', 20) # Set the lateral delay for the atom manipulation(unit ms)\n",
    "env.createc_controller.stm.setparam('Tip_Gain', 6) # Set the gain for the atom manipulation(unit 1)\n",
    "env.createc_controller.stm.setparam('TipForm_Zoffset', 0.0) # Set the z offset for the atom manipulation(unit angstrom)\n",
    "\n"
   ]
  },
  {
   "cell_type": "code",
   "execution_count": null,
   "metadata": {},
   "outputs": [],
   "source": [
    "tip_condition_actions={'stall': [0, 0],\n",
    "                      'soft pulse pos':[0, 2.5],\n",
    "                      'medium pulse pos': [0, 4.0],\n",
    "                      'soft pulse neg': [0 , -2.5], \n",
    "                      'medium pulse neg': [0, -4],\n",
    "                      'strong pulse neg': [0, -8],\n",
    "                      'very soft dip': [0, -8],\n",
    "                      'soft dip 1': [-0.80, 0.02],\n",
    "                      'soft dip 2': [-1.2, 0.02],\n",
    "                      'soft dip 3': [-1.8, 0.02],\n",
    "                      'medium soft': [-2.5, 0.02],\n",
    "                      'strong dip': [-5.0, 0.02]\n",
    "                      }\n"
   ]
  },
  {
   "cell_type": "code",
   "execution_count": null,
   "metadata": {},
   "outputs": [],
   "source": [
    "num_no_done = 0\n",
    "episode_start=0\n",
    "max_episode = 10\n",
    "num_episodes=50\n",
    "for i_episode in range(episode_start,episode_start+num_episodes):\n",
    "    print('Episode:', i_episode)\n",
    "    episode_reward, episode_steps = 0, 0\n",
    "    done = False\n",
    "    print('offffset0000',env.offset_nm)\n",
    "    state, info = env.reset(update_conv_net=False)\n",
    "    print(state, info)\n",
    "    \n",
    " # detect atoms   \n",
    "\n",
    "#  no debris\n",
    "\n",
    "# crash or no probe-atom contact\n",
    "    \n",
    "    \n",
    "    show_reset(env.img_info, env.atom_start_absolute_nm, env.destination_absolute_nm,\n",
    "               env.template_nm, env.template_wh)\n",
    "    episode_memory.update_memory_reset(env.img_info, i_episode, info)\n",
    "    print('offffset1111',env.offset_nm)\n",
    "    \n",
    "\n",
    "\n",
    "    for step in range(max_steps):\n",
    "        action = agent.select_action(state)\n",
    "        old_atom_nm = env.atom_absolute_nm\n",
    "        print('offffset2222',env.offset_nm)\n",
    "        next_state, reward, done, info = env.step(action)\n",
    "        print('offffset3333',env.offset_nm)\n",
    "        episode_steps+=1\n",
    "        episode_reward+=reward\n",
    "        mask = float(not done)\n",
    "        memory.push(state,action,reward,next_state,mask)\n",
    "        episode_memory.update_memory_step(state, action, next_state, reward, done, info)\n",
    "        print(info)\n",
    "        show_step(env.img_info, info['start_nm']+old_atom_nm, info['end_nm']+old_atom_nm,\n",
    "                    env.atom_absolute_nm, env.atom_start_absolute_nm, \n",
    "                    env.destination_absolute_nm, action[4]*env.max_mvolt, \n",
    "                    action[5]*env.max_pcurrent_to_mvolt_ratio*action[4]*env.max_mvolt, \n",
    "                    env.template_nm, env.template_wh)\n",
    "        print('step:', step,'reward', reward, 'precision:', env.dist_destination)\n",
    "        if done:\n",
    "            episode_memory.update_memory_done(env.img_info, env.atom_absolute_nm, env.atom_relative_nm)\n",
    "            episode_memory.save_memory(folder_name)\n",
    "            print('Episode reward:', episode_reward)\n",
    "            break\n",
    "        else:                \n",
    "            state=next_state\n",
    "            \n",
    "    # if manipulation fails N times, adjust tip conditioning\n",
    "    \n",
    "    \n",
    "\n",
    "\n",
    "        \n",
    "\n",
    "    if (len(memory)>batch_size):\n",
    "        episode_K = int(episode_steps)\n",
    "        for k in range(episode_K):\n",
    "            c_k = max(int(memory.__len__()*eta**((k)*(1000/episode_K))), 500)\n",
    "            agent.update_parameters(memory, batch_size, c_k)"
   ]
  },
  {
   "cell_type": "code",
   "execution_count": null,
   "metadata": {},
   "outputs": [],
   "source": [
    "env.createc_controller.stm.scanstop()"
   ]
  },
  {
   "cell_type": "markdown",
   "metadata": {},
   "source": [
    "### Define the training function"
   ]
  },
  {
   "cell_type": "code",
   "execution_count": null,
   "metadata": {},
   "outputs": [],
   "source": [
    "env.dist_destination=0.3934795995776328"
   ]
  }
 ],
 "metadata": {
  "kernelspec": {
   "display_name": "reaction_rl",
   "language": "python",
   "name": "python3"
  },
  "language_info": {
   "codemirror_mode": {
    "name": "ipython",
    "version": 3
   },
   "file_extension": ".py",
   "mimetype": "text/x-python",
   "name": "python",
   "nbconvert_exporter": "python",
   "pygments_lexer": "ipython3",
   "version": "3.9.18"
  }
 },
 "nbformat": 4,
 "nbformat_minor": 4
}
